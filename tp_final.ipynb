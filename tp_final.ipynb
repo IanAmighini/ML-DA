{
 "cells": [
  {
   "cell_type": "code",
   "execution_count": 1,
   "id": "3749317a",
   "metadata": {},
   "outputs": [
    {
     "name": "stderr",
     "output_type": "stream",
     "text": [
      "C:\\Users\\ianam\\AppData\\Local\\Packages\\PythonSoftwareFoundation.Python.3.11_qbz5n2kfra8p0\\LocalCache\\local-packages\\Python311\\site-packages\\tqdm\\auto.py:21: TqdmWarning: IProgress not found. Please update jupyter and ipywidgets. See https://ipywidgets.readthedocs.io/en/stable/user_install.html\n",
      "  from .autonotebook import tqdm as notebook_tqdm\n"
     ]
    }
   ],
   "source": [
    "## 1 · Imports y rutas globales\n",
    "#Carga de librerías y definición de carpetas base.\n",
    "import warnings, re, math, random\n",
    "from pathlib import Path\n",
    "from collections import defaultdict\n",
    "from datetime import datetime\n",
    "\n",
    "import numpy as np\n",
    "import pandas as pd\n",
    "from tqdm.auto import tqdm\n",
    "\n",
    "import xgboost as xgb\n",
    "from sklearn.metrics import log_loss, accuracy_score\n",
    "import optuna\n",
    "\n",
    "# ---- Rutas base ----\n",
    "ROOT_CANDIDATES = [Path(\"data\"), Path(\"/data\"), Path(\"/mnt/data\"), Path(\".\")]\n",
    "DATA_DIR  = next((p for p in ROOT_CANDIDATES if (p / \"atp_players.csv\").exists()), None)\n",
    "assert DATA_DIR, \"No se encontraron los CSV de ATP en las rutas candidatas.\"\n",
    "\n",
    "PLAYERS_CSV = DATA_DIR / \"atp_players.csv\"\n",
    "DRAW_CSV    = DATA_DIR / \"ao_2025_draw.csv\"\n"
   ]
  },
  {
   "cell_type": "code",
   "execution_count": 2,
   "id": "52408ca1",
   "metadata": {},
   "outputs": [
    {
     "name": "stdout",
     "output_type": "stream",
     "text": [
      "Matches cargados: 194,996  → tras limpiar NaNs en 'surface': 192,006\n",
      "surface\n",
      "Hard      78287\n",
      "Clay      69418\n",
      "Grass     23401\n",
      "Carpet    20900\n",
      "Name: count, dtype: int64\n"
     ]
    },
    {
     "data": {
      "text/plain": [
       "'Matches cargados: 192,006'"
      ]
     },
     "execution_count": 2,
     "metadata": {},
     "output_type": "execute_result"
    }
   ],
   "source": [
    "## 2 · Carga y limpieza inicial de partidos ATP\n",
    "def load_matches(pattern: str = \"atp_matches_*.csv\", roots = ROOT_CANDIDATES) -> pd.DataFrame:\n",
    "    #Une todos los CSV año‑a‑año en un único DataFrame ordenado por fecha.\n",
    "    dfs = []\n",
    "    for root in roots:\n",
    "        for fp in sorted(root.glob(pattern)):\n",
    "            dfs.append(pd.read_csv(fp, parse_dates=[\"tourney_date\"]))\n",
    "    if not dfs:\n",
    "        raise FileNotFoundError(f\"No se hallaron archivos {pattern} en {roots}\")\n",
    "    df = pd.concat(dfs, ignore_index=True)\n",
    "    # Sólo columnas esenciales para Elo + XGB\n",
    "    keep = [\"tourney_date\", \"surface\", \"winner_id\", \"loser_id\"]\n",
    "    return df[keep].sort_values(\"tourney_date\").reset_index(drop=True)\n",
    "\n",
    "matches = load_matches()\n",
    "orig_rows = len(matches)\n",
    "# Descartamos filas sin superficie declarada\n",
    "matches = matches.dropna(subset=[\"surface\"]).reset_index(drop=True)\n",
    "print(f\"Matches cargados: {orig_rows:,}  → tras limpiar NaNs en 'surface': {len(matches):,}\")\n",
    "print(matches.surface.value_counts(dropna=False).head())\n",
    "f\"Matches cargados: {matches.shape[0]:,}\"\n"
   ]
  },
  {
   "cell_type": "code",
   "execution_count": 3,
   "id": "1fa48668",
   "metadata": {},
   "outputs": [
    {
     "name": "stderr",
     "output_type": "stream",
     "text": [
      "Elo loop: 100%|██████████| 192006/192006 [00:08<00:00, 21612.96it/s]\n"
     ]
    }
   ],
   "source": [
    "## 3 · Cálculo de Elo dinámico y sensible a superficie\n",
    "def compute_elo_features(df: pd.DataFrame, *, k: int = 32, alpha: float = 0.30):\n",
    "    #Devuelve un DataFrame con las columnas pre‑partido `a_elo`, `b_elo`, `delta_elo`.\n",
    "\n",
    "    #overall[pid]**   : Elo genérico  (Hard+Clay+Grass+Carpet)\n",
    "    #surface[pid][s]**: Elo específico de la superficie *s*\n",
    "    #alpha**          : Peso relativo del Elo por superficie (0 = ignora superficie).\n",
    "\n",
    "    overall   = defaultdict(lambda: 1500.0)\n",
    "    surfaces  = defaultdict(lambda: {s: 1500.0 for s in [\"Hard\", \"Clay\", \"Grass\", \"Carpet\"]})\n",
    "    records   = []\n",
    "\n",
    "    for _, row in tqdm(df.iterrows(), total=len(df), desc=\"Elo loop\"):\n",
    "        w, l  = int(row.winner_id), int(row.loser_id)\n",
    "        surf  = (row.surface or \"Hard\").title()\n",
    "\n",
    "        w_r = (1-alpha)*overall[w] + alpha*surfaces[w][surf]\n",
    "        l_r = (1-alpha)*overall[l] + alpha*surfaces[l][surf]\n",
    "        exp_w = 1 / (1 + 10**((l_r - w_r)/400))\n",
    "\n",
    "        records.append({\"a_elo\": w_r, \"b_elo\": l_r, \"delta_elo\": w_r - l_r})\n",
    "\n",
    "        delta = k * (1 - exp_w)\n",
    "        overall[w]  += delta; overall[l]  -= delta\n",
    "        surfaces[w][surf] += delta; surfaces[l][surf] -= delta\n",
    "\n",
    "    return pd.DataFrame(records), overall, surfaces\n",
    "\n",
    "elo_feats, final_overall, final_surface = compute_elo_features(matches)\n"
   ]
  },
  {
   "cell_type": "code",
   "execution_count": 4,
   "id": "00cf2900",
   "metadata": {},
   "outputs": [],
   "source": [
    "## 4 · Dataset balanceado (ganador vs perdedor)\n",
    "# Positivos: ganador como lado A ─────────\n",
    "X_pos = elo_feats.copy()\n",
    "y_pos = np.ones(len(X_pos), dtype=np.int8)\n",
    "\n",
    "# Negativos: perdedor como lado A ────────\n",
    "X_neg = X_pos.copy()\n",
    "X_neg[[\"a_elo\", \"b_elo\"]] = X_neg[[\"b_elo\", \"a_elo\"]].values\n",
    "X_neg[\"delta_elo\"] *= -1\n",
    "y_neg = np.zeros(len(X_neg), dtype=np.int8)\n",
    "\n",
    "X_full = pd.concat([X_pos, X_neg], ignore_index=True)\n",
    "y_full = np.concatenate([y_pos, y_neg])\n"
   ]
  },
  {
   "cell_type": "code",
   "execution_count": 5,
   "id": "2d7370ff",
   "metadata": {},
   "outputs": [
    {
     "name": "stdout",
     "output_type": "stream",
     "text": [
      "Distribución:\n",
      " · Train: 371,994 obs – Pos=0.500\n",
      " · Val: 5,866 obs – Pos=0.500\n",
      " · Test: 6,152 obs – Pos=0.500\n"
     ]
    }
   ],
   "source": [
    "## 5 · Split cronológico train / val / test\n",
    "# Dos fechas por match (porque espejamos)\n",
    "dates_full = pd.concat([matches.tourney_date]*2, ignore_index=True)\n",
    "\n",
    "train = dates_full.dt.year <= 2022\n",
    "val   = dates_full.dt.year == 2023\n",
    "test  = dates_full.dt.year == 2024\n",
    "\n",
    "X_train, y_train = X_full[train], y_full[train]\n",
    "X_val,   y_val   = X_full[val],   y_full[val]\n",
    "X_test,  y_test  = X_full[test],  y_full[test]\n",
    "\n",
    "print(\"Distribución:\")\n",
    "for name, y in zip([\"Train\", \"Val\", \"Test\"], [y_train, y_val, y_test]):\n",
    "    print(f\" · {name}: {len(y):,} obs – Pos={y.mean():.3f}\")\n"
   ]
  },
  {
   "cell_type": "code",
   "execution_count": 6,
   "id": "b328adb6",
   "metadata": {},
   "outputs": [
    {
     "name": "stderr",
     "output_type": "stream",
     "text": [
      "[I 2025-06-30 19:36:14,742] A new study created in memory with name: no-name-d5d6031d-3007-45e6-8493-9e8f208e9c61\n",
      "Best trial: 0. Best value: 0.623134:   2%|▎         | 1/40 [00:04<02:42,  4.17s/it]"
     ]
    },
    {
     "name": "stdout",
     "output_type": "stream",
     "text": [
      "[I 2025-06-30 19:36:18,912] Trial 0 finished with value: 0.6231336489553505 and parameters: {'eta': 0.010577367847204571, 'max_depth': 7, 'subsample': 0.755631492651708, 'colsample_bytree': 0.6385503892015613, 'lambda': 0.011834788147411911, 'alpha': 0.0006466760806552321}. Best is trial 0 with value: 0.6231336489553505.\n"
     ]
    },
    {
     "name": "stderr",
     "output_type": "stream",
     "text": [
      "Best trial: 0. Best value: 0.623134:   5%|▌         | 2/40 [00:05<01:38,  2.59s/it]"
     ]
    },
    {
     "name": "stdout",
     "output_type": "stream",
     "text": [
      "[I 2025-06-30 19:36:20,392] Trial 1 finished with value: 0.6234946026293097 and parameters: {'eta': 0.017791136706963664, 'max_depth': 6, 'subsample': 0.7490979086990577, 'colsample_bytree': 0.701578082708999, 'lambda': 6.135356436009329e-05, 'alpha': 8.262089700651654e-06}. Best is trial 0 with value: 0.6231336489553505.\n"
     ]
    },
    {
     "name": "stderr",
     "output_type": "stream",
     "text": [
      "Best trial: 0. Best value: 0.623134:   8%|▊         | 3/40 [00:06<01:03,  1.72s/it]"
     ]
    },
    {
     "name": "stdout",
     "output_type": "stream",
     "text": [
      "[I 2025-06-30 19:36:21,073] Trial 2 finished with value: 0.6241131326329107 and parameters: {'eta': 0.04889447645443499, 'max_depth': 5, 'subsample': 0.9327786231654154, 'colsample_bytree': 0.9604714247737565, 'lambda': 0.9271755968992232, 'alpha': 3.2200142784042317e-07}. Best is trial 0 with value: 0.6231336489553505.\n"
     ]
    },
    {
     "name": "stderr",
     "output_type": "stream",
     "text": [
      "Best trial: 0. Best value: 0.623134:  10%|█         | 4/40 [00:07<00:56,  1.58s/it]"
     ]
    },
    {
     "name": "stdout",
     "output_type": "stream",
     "text": [
      "[I 2025-06-30 19:36:22,441] Trial 3 finished with value: 0.6246764583394383 and parameters: {'eta': 0.017875002155614057, 'max_depth': 4, 'subsample': 0.5058174057170661, 'colsample_bytree': 0.876364393807813, 'lambda': 2.1617711855310548e-05, 'alpha': 2.0117015601464883e-06}. Best is trial 0 with value: 0.6231336489553505.\n"
     ]
    },
    {
     "name": "stderr",
     "output_type": "stream",
     "text": [
      "Best trial: 0. Best value: 0.623134:  12%|█▎        | 5/40 [00:08<00:39,  1.13s/it]"
     ]
    },
    {
     "name": "stdout",
     "output_type": "stream",
     "text": [
      "[I 2025-06-30 19:36:22,783] Trial 4 finished with value: 0.6254330614522643 and parameters: {'eta': 0.24373766041833997, 'max_depth': 4, 'subsample': 0.9104923375360554, 'colsample_bytree': 0.9531464347052059, 'lambda': 1.1992558768474943e-08, 'alpha': 0.023145945970675944}. Best is trial 0 with value: 0.6231336489553505.\n"
     ]
    },
    {
     "name": "stderr",
     "output_type": "stream",
     "text": [
      "Best trial: 0. Best value: 0.623134:  15%|█▌        | 6/40 [00:08<00:30,  1.10it/s]"
     ]
    },
    {
     "name": "stdout",
     "output_type": "stream",
     "text": [
      "[I 2025-06-30 19:36:23,256] Trial 5 finished with value: 0.6231633961245804 and parameters: {'eta': 0.2700511594635894, 'max_depth': 6, 'subsample': 0.8926115734771927, 'colsample_bytree': 0.6486519857770368, 'lambda': 4.109830708208631e-05, 'alpha': 0.00011542400819573893}. Best is trial 0 with value: 0.6231336489553505.\n"
     ]
    },
    {
     "name": "stderr",
     "output_type": "stream",
     "text": [
      "Best trial: 0. Best value: 0.623134:  18%|█▊        | 7/40 [00:09<00:28,  1.15it/s]"
     ]
    },
    {
     "name": "stdout",
     "output_type": "stream",
     "text": [
      "[I 2025-06-30 19:36:24,048] Trial 6 finished with value: 0.6240333504695413 and parameters: {'eta': 0.03384833863808831, 'max_depth': 5, 'subsample': 0.9126660440468708, 'colsample_bytree': 0.7547891857705418, 'lambda': 0.7055872181315628, 'alpha': 2.3883411127862324e-07}. Best is trial 0 with value: 0.6231336489553505.\n"
     ]
    },
    {
     "name": "stderr",
     "output_type": "stream",
     "text": [
      "Best trial: 0. Best value: 0.623134:  20%|██        | 8/40 [00:10<00:33,  1.04s/it]"
     ]
    },
    {
     "name": "stdout",
     "output_type": "stream",
     "text": [
      "[I 2025-06-30 19:36:25,453] Trial 7 finished with value: 0.6246850634812343 and parameters: {'eta': 0.019842541481152845, 'max_depth': 4, 'subsample': 0.912912221595443, 'colsample_bytree': 0.72471185570037, 'lambda': 0.056176485054533244, 'alpha': 1.99525740524112e-07}. Best is trial 0 with value: 0.6231336489553505.\n"
     ]
    },
    {
     "name": "stderr",
     "output_type": "stream",
     "text": [
      "Best trial: 8. Best value: 0.623003:  22%|██▎       | 9/40 [00:11<00:25,  1.19it/s]"
     ]
    },
    {
     "name": "stdout",
     "output_type": "stream",
     "text": [
      "[I 2025-06-30 19:36:25,845] Trial 8 finished with value: 0.6230029599836996 and parameters: {'eta': 0.25367626412785665, 'max_depth': 4, 'subsample': 0.5781201393971191, 'colsample_bytree': 0.5619500863691878, 'lambda': 8.229636526186415e-06, 'alpha': 0.0002821566476217457}. Best is trial 8 with value: 0.6230029599836996.\n"
     ]
    },
    {
     "name": "stderr",
     "output_type": "stream",
     "text": [
      "Best trial: 8. Best value: 0.623003:  25%|██▌       | 10/40 [00:11<00:20,  1.43it/s]"
     ]
    },
    {
     "name": "stdout",
     "output_type": "stream",
     "text": [
      "[I 2025-06-30 19:36:26,233] Trial 9 finished with value: 0.6231267559629453 and parameters: {'eta': 0.19052573095456626, 'max_depth': 3, 'subsample': 0.727963129879677, 'colsample_bytree': 0.558706814749727, 'lambda': 1.0196984944818914e-08, 'alpha': 2.709552404872238e-07}. Best is trial 8 with value: 0.6230029599836996.\n"
     ]
    },
    {
     "name": "stderr",
     "output_type": "stream",
     "text": [
      "Best trial: 8. Best value: 0.623003:  28%|██▊       | 11/40 [00:12<00:21,  1.38it/s]"
     ]
    },
    {
     "name": "stdout",
     "output_type": "stream",
     "text": [
      "[I 2025-06-30 19:36:27,024] Trial 10 finished with value: 0.6231636722758539 and parameters: {'eta': 0.11208941795924246, 'max_depth': 8, 'subsample': 0.5266110624263485, 'colsample_bytree': 0.526521915390028, 'lambda': 7.288190987791678e-07, 'alpha': 0.24017519282974972}. Best is trial 8 with value: 0.6230029599836996.\n"
     ]
    },
    {
     "name": "stderr",
     "output_type": "stream",
     "text": [
      "Best trial: 8. Best value: 0.623003:  30%|███       | 12/40 [00:12<00:18,  1.53it/s]"
     ]
    },
    {
     "name": "stdout",
     "output_type": "stream",
     "text": [
      "[I 2025-06-30 19:36:27,515] Trial 11 finished with value: 0.6234545278068577 and parameters: {'eta': 0.11624570590729126, 'max_depth': 3, 'subsample': 0.6348326141298183, 'colsample_bytree': 0.5067050276791092, 'lambda': 3.51360220646453e-08, 'alpha': 1.2356692002290674e-08}. Best is trial 8 with value: 0.6230029599836996.\n"
     ]
    },
    {
     "name": "stderr",
     "output_type": "stream",
     "text": [
      "Best trial: 8. Best value: 0.623003:  32%|███▎      | 13/40 [00:13<00:16,  1.68it/s]"
     ]
    },
    {
     "name": "stdout",
     "output_type": "stream",
     "text": [
      "[I 2025-06-30 19:36:27,969] Trial 12 finished with value: 0.6233687929141005 and parameters: {'eta': 0.13504041370502892, 'max_depth': 3, 'subsample': 0.6524336352824107, 'colsample_bytree': 0.5814718117064583, 'lambda': 7.618230215170223e-07, 'alpha': 0.0015868769515310415}. Best is trial 8 with value: 0.6230029599836996.\n"
     ]
    },
    {
     "name": "stderr",
     "output_type": "stream",
     "text": [
      "Best trial: 8. Best value: 0.623003:  35%|███▌      | 14/40 [00:13<00:13,  1.86it/s]"
     ]
    },
    {
     "name": "stdout",
     "output_type": "stream",
     "text": [
      "[I 2025-06-30 19:36:28,376] Trial 13 finished with value: 0.6232419007613701 and parameters: {'eta': 0.16893148152104523, 'max_depth': 3, 'subsample': 0.6426800663750328, 'colsample_bytree': 0.5844275476532738, 'lambda': 7.922828146356139e-07, 'alpha': 2.5619747321743456e-05}. Best is trial 8 with value: 0.6230029599836996.\n"
     ]
    },
    {
     "name": "stderr",
     "output_type": "stream",
     "text": [
      "Best trial: 8. Best value: 0.623003:  38%|███▊      | 15/40 [00:14<00:14,  1.70it/s]"
     ]
    },
    {
     "name": "stdout",
     "output_type": "stream",
     "text": [
      "[I 2025-06-30 19:36:29,078] Trial 14 finished with value: 0.6248930958177459 and parameters: {'eta': 0.0812791903028225, 'max_depth': 4, 'subsample': 0.7870537367424765, 'colsample_bytree': 0.8120140567863883, 'lambda': 0.0013050391128662838, 'alpha': 1.770442698022684}. Best is trial 8 with value: 0.6230029599836996.\n"
     ]
    },
    {
     "name": "stderr",
     "output_type": "stream",
     "text": [
      "Best trial: 8. Best value: 0.623003:  40%|████      | 16/40 [00:14<00:12,  1.91it/s]"
     ]
    },
    {
     "name": "stdout",
     "output_type": "stream",
     "text": [
      "[I 2025-06-30 19:36:29,456] Trial 15 finished with value: 0.6232756240515022 and parameters: {'eta': 0.29323652976632186, 'max_depth': 3, 'subsample': 0.5791282109755838, 'colsample_bytree': 0.5793728187420049, 'lambda': 2.6095927697825567e-06, 'alpha': 0.015347139650924836}. Best is trial 8 with value: 0.6230029599836996.\n"
     ]
    },
    {
     "name": "stderr",
     "output_type": "stream",
     "text": [
      "Best trial: 16. Best value: 0.62286:  42%|████▎     | 17/40 [00:15<00:12,  1.90it/s]"
     ]
    },
    {
     "name": "stdout",
     "output_type": "stream",
     "text": [
      "[I 2025-06-30 19:36:29,986] Trial 16 finished with value: 0.6228601773667343 and parameters: {'eta': 0.17616222987701521, 'max_depth': 5, 'subsample': 0.8255219787624801, 'colsample_bytree': 0.6558652906010073, 'lambda': 1.0496841026327265e-07, 'alpha': 1.4855838283516526e-08}. Best is trial 16 with value: 0.6228601773667343.\n"
     ]
    },
    {
     "name": "stderr",
     "output_type": "stream",
     "text": [
      "Best trial: 16. Best value: 0.62286:  45%|████▌     | 18/40 [00:15<00:12,  1.71it/s]"
     ]
    },
    {
     "name": "stdout",
     "output_type": "stream",
     "text": [
      "[I 2025-06-30 19:36:30,711] Trial 17 finished with value: 0.6228971835981548 and parameters: {'eta': 0.07188415692999209, 'max_depth': 5, 'subsample': 0.8426336741157305, 'colsample_bytree': 0.6394849195820018, 'lambda': 8.961997085634323e-08, 'alpha': 1.090448670694334e-08}. Best is trial 16 with value: 0.6228601773667343.\n"
     ]
    },
    {
     "name": "stderr",
     "output_type": "stream",
     "text": [
      "Best trial: 16. Best value: 0.62286:  48%|████▊     | 19/40 [00:16<00:13,  1.55it/s]"
     ]
    },
    {
     "name": "stdout",
     "output_type": "stream",
     "text": [
      "[I 2025-06-30 19:36:31,491] Trial 18 finished with value: 0.6228885907378775 and parameters: {'eta': 0.07449655241858977, 'max_depth': 6, 'subsample': 0.993999331393316, 'colsample_bytree': 0.660304091011116, 'lambda': 8.35832925988945e-08, 'alpha': 1.6035938958597174e-08}. Best is trial 16 with value: 0.6228601773667343.\n"
     ]
    },
    {
     "name": "stderr",
     "output_type": "stream",
     "text": [
      "Best trial: 16. Best value: 0.62286:  50%|█████     | 20/40 [00:17<00:13,  1.44it/s]"
     ]
    },
    {
     "name": "stdout",
     "output_type": "stream",
     "text": [
      "[I 2025-06-30 19:36:32,304] Trial 19 finished with value: 0.6236854692291693 and parameters: {'eta': 0.04269016160808837, 'max_depth': 7, 'subsample': 0.9980342068515016, 'colsample_bytree': 0.8058527296183566, 'lambda': 0.0005367715298804097, 'alpha': 5.173472484318241e-08}. Best is trial 16 with value: 0.6228601773667343.\n"
     ]
    },
    {
     "name": "stderr",
     "output_type": "stream",
     "text": [
      "Best trial: 16. Best value: 0.62286:  52%|█████▎    | 21/40 [00:18<00:12,  1.52it/s]"
     ]
    },
    {
     "name": "stdout",
     "output_type": "stream",
     "text": [
      "[I 2025-06-30 19:36:32,880] Trial 20 finished with value: 0.6234010752548323 and parameters: {'eta': 0.07506177166379523, 'max_depth': 7, 'subsample': 0.9855016053709444, 'colsample_bytree': 0.6837828852921335, 'lambda': 7.952086579070442e-08, 'alpha': 2.802614089976028e-06}. Best is trial 16 with value: 0.6228601773667343.\n"
     ]
    },
    {
     "name": "stderr",
     "output_type": "stream",
     "text": [
      "Best trial: 16. Best value: 0.62286:  55%|█████▌    | 22/40 [00:18<00:12,  1.44it/s]"
     ]
    },
    {
     "name": "stdout",
     "output_type": "stream",
     "text": [
      "[I 2025-06-30 19:36:33,658] Trial 21 finished with value: 0.6228934482160411 and parameters: {'eta': 0.06778536669794256, 'max_depth': 5, 'subsample': 0.8287428129019694, 'colsample_bytree': 0.6446112368974899, 'lambda': 7.376498045272415e-08, 'alpha': 1.5169884152979235e-08}. Best is trial 16 with value: 0.6228601773667343.\n"
     ]
    },
    {
     "name": "stderr",
     "output_type": "stream",
     "text": [
      "Best trial: 16. Best value: 0.62286:  57%|█████▊    | 23/40 [00:19<00:12,  1.33it/s]"
     ]
    },
    {
     "name": "stdout",
     "output_type": "stream",
     "text": [
      "[I 2025-06-30 19:36:34,536] Trial 22 finished with value: 0.6236217011400063 and parameters: {'eta': 0.03201008504289336, 'max_depth': 6, 'subsample': 0.837540583443853, 'colsample_bytree': 0.768978727473211, 'lambda': 1.4576824612434804e-07, 'alpha': 3.83453734554924e-08}. Best is trial 16 with value: 0.6228601773667343.\n"
     ]
    },
    {
     "name": "stderr",
     "output_type": "stream",
     "text": [
      "Best trial: 23. Best value: 0.6228:  60%|██████    | 24/40 [00:20<00:12,  1.31it/s] "
     ]
    },
    {
     "name": "stdout",
     "output_type": "stream",
     "text": [
      "[I 2025-06-30 19:36:35,340] Trial 23 finished with value: 0.6227997689639042 and parameters: {'eta': 0.06288443475800931, 'max_depth': 5, 'subsample': 0.8165827644114687, 'colsample_bytree': 0.6581166516704186, 'lambda': 3.251122027728748e-07, 'alpha': 1.3572176372666346e-06}. Best is trial 23 with value: 0.6227997689639042.\n"
     ]
    },
    {
     "name": "stderr",
     "output_type": "stream",
     "text": [
      "Best trial: 23. Best value: 0.6228:  62%|██████▎   | 25/40 [00:21<00:10,  1.46it/s]"
     ]
    },
    {
     "name": "stdout",
     "output_type": "stream",
     "text": [
      "[I 2025-06-30 19:36:35,832] Trial 24 finished with value: 0.623752630055662 and parameters: {'eta': 0.08925349081670002, 'max_depth': 6, 'subsample': 0.7000233525634748, 'colsample_bytree': 0.6816756398996757, 'lambda': 3.4546782343906755e-06, 'alpha': 3.7097463295520534e-06}. Best is trial 23 with value: 0.6227997689639042.\n"
     ]
    },
    {
     "name": "stderr",
     "output_type": "stream",
     "text": [
      "Best trial: 23. Best value: 0.6228:  65%|██████▌   | 26/40 [00:21<00:08,  1.62it/s]"
     ]
    },
    {
     "name": "stdout",
     "output_type": "stream",
     "text": [
      "[I 2025-06-30 19:36:36,290] Trial 25 finished with value: 0.622879723095844 and parameters: {'eta': 0.15847484449206722, 'max_depth': 5, 'subsample': 0.7978265085424293, 'colsample_bytree': 0.6145405001151313, 'lambda': 9.593782497902392, 'alpha': 6.789442755949599e-07}. Best is trial 23 with value: 0.6227997689639042.\n"
     ]
    },
    {
     "name": "stderr",
     "output_type": "stream",
     "text": [
      "Best trial: 23. Best value: 0.6228:  68%|██████▊   | 27/40 [00:22<00:07,  1.71it/s]"
     ]
    },
    {
     "name": "stdout",
     "output_type": "stream",
     "text": [
      "[I 2025-06-30 19:36:36,806] Trial 26 finished with value: 0.6228358986855133 and parameters: {'eta': 0.16535884065040107, 'max_depth': 5, 'subsample': 0.8014263998911803, 'colsample_bytree': 0.6023047977517848, 'lambda': 0.0931828368701895, 'alpha': 3.369019068786163e-05}. Best is trial 23 with value: 0.6227997689639042.\n"
     ]
    },
    {
     "name": "stderr",
     "output_type": "stream",
     "text": [
      "Best trial: 23. Best value: 0.6228:  70%|███████   | 28/40 [00:22<00:06,  1.84it/s]"
     ]
    },
    {
     "name": "stdout",
     "output_type": "stream",
     "text": [
      "[I 2025-06-30 19:36:37,246] Trial 27 finished with value: 0.6241460477433491 and parameters: {'eta': 0.10220236815610341, 'max_depth': 5, 'subsample': 0.8616076629756654, 'colsample_bytree': 0.7143550245843634, 'lambda': 0.004765759085495133, 'alpha': 2.1097300315021025e-05}. Best is trial 23 with value: 0.6227997689639042.\n"
     ]
    },
    {
     "name": "stderr",
     "output_type": "stream",
     "text": [
      "Best trial: 23. Best value: 0.6228:  72%|███████▎  | 29/40 [00:22<00:05,  1.93it/s]"
     ]
    },
    {
     "name": "stdout",
     "output_type": "stream",
     "text": [
      "[I 2025-06-30 19:36:37,706] Trial 28 finished with value: 0.6228946210178897 and parameters: {'eta': 0.2000049730238454, 'max_depth': 5, 'subsample': 0.7866909632686119, 'colsample_bytree': 0.6031228774358031, 'lambda': 0.00019571523361569784, 'alpha': 3.251822015471554e-05}. Best is trial 23 with value: 0.6227997689639042.\n"
     ]
    },
    {
     "name": "stderr",
     "output_type": "stream",
     "text": [
      "Best trial: 23. Best value: 0.6228:  75%|███████▌  | 30/40 [00:26<00:14,  1.45s/it]"
     ]
    },
    {
     "name": "stdout",
     "output_type": "stream",
     "text": [
      "[I 2025-06-30 19:36:41,341] Trial 29 finished with value: 0.623250178520895 and parameters: {'eta': 0.011451788570789797, 'max_depth': 8, 'subsample': 0.7155719718716156, 'colsample_bytree': 0.6128369786031975, 'lambda': 0.04706806388601163, 'alpha': 0.00056578873628196}. Best is trial 23 with value: 0.6227997689639042.\n"
     ]
    },
    {
     "name": "stderr",
     "output_type": "stream",
     "text": [
      "Best trial: 23. Best value: 0.6228:  78%|███████▊  | 31/40 [00:27<00:10,  1.16s/it]"
     ]
    },
    {
     "name": "stdout",
     "output_type": "stream",
     "text": [
      "[I 2025-06-30 19:36:41,820] Trial 30 finished with value: 0.6229435777081449 and parameters: {'eta': 0.1401073899346341, 'max_depth': 4, 'subsample': 0.8761800000106078, 'colsample_bytree': 0.54501371176124, 'lambda': 0.007576671697813373, 'alpha': 1.5535019723599606e-06}. Best is trial 23 with value: 0.6227997689639042.\n"
     ]
    },
    {
     "name": "stderr",
     "output_type": "stream",
     "text": [
      "Best trial: 23. Best value: 0.6228:  80%|████████  | 32/40 [00:27<00:07,  1.08it/s]"
     ]
    },
    {
     "name": "stdout",
     "output_type": "stream",
     "text": [
      "[I 2025-06-30 19:36:42,206] Trial 31 finished with value: 0.6245989145370034 and parameters: {'eta': 0.1530065082382226, 'max_depth': 5, 'subsample': 0.792980222452006, 'colsample_bytree': 0.6707006356233014, 'lambda': 3.919368273431066, 'alpha': 7.312043556594228e-07}. Best is trial 23 with value: 0.6227997689639042.\n"
     ]
    },
    {
     "name": "stderr",
     "output_type": "stream",
     "text": [
      "Best trial: 23. Best value: 0.6228:  82%|████████▎ | 33/40 [00:27<00:05,  1.27it/s]"
     ]
    },
    {
     "name": "stdout",
     "output_type": "stream",
     "text": [
      "[I 2025-06-30 19:36:42,665] Trial 32 finished with value: 0.6228482805743707 and parameters: {'eta': 0.1985705004175035, 'max_depth': 5, 'subsample': 0.8121325544948331, 'colsample_bytree': 0.61869359014443, 'lambda': 0.26207753316413634, 'alpha': 8.148963701920019e-08}. Best is trial 23 with value: 0.6227997689639042.\n"
     ]
    },
    {
     "name": "stderr",
     "output_type": "stream",
     "text": [
      "Best trial: 23. Best value: 0.6228:  85%|████████▌ | 34/40 [00:28<00:04,  1.41it/s]"
     ]
    },
    {
     "name": "stdout",
     "output_type": "stream",
     "text": [
      "[I 2025-06-30 19:36:43,194] Trial 33 finished with value: 0.6230304060472722 and parameters: {'eta': 0.20582943887769725, 'max_depth': 6, 'subsample': 0.756450527556863, 'colsample_bytree': 0.6295988489771527, 'lambda': 0.11475507715040956, 'alpha': 6.353594481973346e-08}. Best is trial 23 with value: 0.6227997689639042.\n"
     ]
    },
    {
     "name": "stderr",
     "output_type": "stream",
     "text": [
      "Best trial: 23. Best value: 0.6228:  88%|████████▊ | 35/40 [00:29<00:03,  1.43it/s]"
     ]
    },
    {
     "name": "stdout",
     "output_type": "stream",
     "text": [
      "[I 2025-06-30 19:36:43,875] Trial 34 finished with value: 0.6233577337427185 and parameters: {'eta': 0.05334069062376282, 'max_depth': 7, 'subsample': 0.7607484648531062, 'colsample_bytree': 0.7273013517313898, 'lambda': 0.44222635328073334, 'alpha': 9.824658910366024e-06}. Best is trial 23 with value: 0.6227997689639042.\n"
     ]
    },
    {
     "name": "stderr",
     "output_type": "stream",
     "text": [
      "Best trial: 23. Best value: 0.6228:  90%|█████████ | 36/40 [00:29<00:02,  1.69it/s]"
     ]
    },
    {
     "name": "stdout",
     "output_type": "stream",
     "text": [
      "[I 2025-06-30 19:36:44,207] Trial 35 finished with value: 0.6247562201972447 and parameters: {'eta': 0.22625152805569146, 'max_depth': 4, 'subsample': 0.8150133694533057, 'colsample_bytree': 0.6969493639563694, 'lambda': 0.13610283530076397, 'alpha': 9.55299608250909e-08}. Best is trial 23 with value: 0.6227997689639042.\n"
     ]
    },
    {
     "name": "stderr",
     "output_type": "stream",
     "text": [
      "Best trial: 23. Best value: 0.6228:  92%|█████████▎| 37/40 [00:29<00:01,  1.82it/s]"
     ]
    },
    {
     "name": "stdout",
     "output_type": "stream",
     "text": [
      "[I 2025-06-30 19:36:44,665] Trial 36 finished with value: 0.6243798325426986 and parameters: {'eta': 0.0984833215603649, 'max_depth': 5, 'subsample': 0.9415594178648826, 'colsample_bytree': 0.7907200881238768, 'lambda': 0.00015403993676263883, 'alpha': 0.00010238360218346105}. Best is trial 23 with value: 0.6227997689639042.\n"
     ]
    },
    {
     "name": "stderr",
     "output_type": "stream",
     "text": [
      "Best trial: 23. Best value: 0.6228:  95%|█████████▌| 38/40 [00:30<00:01,  1.90it/s]"
     ]
    },
    {
     "name": "stdout",
     "output_type": "stream",
     "text": [
      "[I 2025-06-30 19:36:45,134] Trial 37 finished with value: 0.6244280038371637 and parameters: {'eta': 0.12418702371316383, 'max_depth': 5, 'subsample': 0.8631984641543338, 'colsample_bytree': 0.8555333395050068, 'lambda': 0.020414836439049327, 'alpha': 7.367324298877198e-07}. Best is trial 23 with value: 0.6227997689639042.\n"
     ]
    },
    {
     "name": "stderr",
     "output_type": "stream",
     "text": [
      "Best trial: 23. Best value: 0.6228:  98%|█████████▊| 39/40 [00:32<00:00,  1.08it/s]"
     ]
    },
    {
     "name": "stdout",
     "output_type": "stream",
     "text": [
      "[I 2025-06-30 19:36:47,002] Trial 38 finished with value: 0.6230398848445808 and parameters: {'eta': 0.02186639527630752, 'max_depth': 6, 'subsample': 0.7654524776815766, 'colsample_bytree': 0.6074843815297966, 'lambda': 0.002565090684352852, 'alpha': 1.1468876276269137e-07}. Best is trial 23 with value: 0.6227997689639042.\n"
     ]
    },
    {
     "name": "stderr",
     "output_type": "stream",
     "text": [
      "Best trial: 23. Best value: 0.6228: 100%|██████████| 40/40 [00:32<00:00,  1.22it/s]"
     ]
    },
    {
     "name": "stdout",
     "output_type": "stream",
     "text": [
      "[I 2025-06-30 19:36:47,407] Trial 39 finished with value: 0.6248268244163782 and parameters: {'eta': 0.17774034131727173, 'max_depth': 4, 'subsample': 0.6800443272570065, 'colsample_bytree': 0.9876067045087694, 'lambda': 3.047998321747781, 'alpha': 0.0022502346612625944}. Best is trial 23 with value: 0.6227997689639042.\n",
      "Mejor pérdida log: 0.6227997689639042 \n",
      "Params: {'eta': 0.06288443475800931, 'max_depth': 5, 'subsample': 0.8165827644114687, 'colsample_bytree': 0.6581166516704186, 'lambda': 3.251122027728748e-07, 'alpha': 1.3572176372666346e-06}\n"
     ]
    },
    {
     "name": "stderr",
     "output_type": "stream",
     "text": [
      "\n"
     ]
    }
   ],
   "source": [
    "## 6 · Búsqueda de hiperparámetros con Optuna\n",
    "dtrain = xgb.DMatrix(X_train, label=y_train)\n",
    "dval   = xgb.DMatrix(X_val,   label=y_val)\n",
    "\n",
    "def objective(trial):\n",
    "    params = {\n",
    "        \"objective\": \"binary:logistic\",\n",
    "        \"eval_metric\": \"logloss\",\n",
    "        \"eta\": trial.suggest_float(\"eta\", 0.01, 0.3, log=True),\n",
    "        \"max_depth\": trial.suggest_int(\"max_depth\", 3, 8),\n",
    "        \"subsample\": trial.suggest_float(\"subsample\", 0.5, 1.0),\n",
    "        \"colsample_bytree\": trial.suggest_float(\"colsample_bytree\", 0.5, 1.0),\n",
    "        \"lambda\": trial.suggest_float(\"lambda\", 1e-8, 10.0, log=True),\n",
    "        \"alpha\":  trial.suggest_float(\"alpha\",  1e-8, 10.0, log=True),\n",
    "    }\n",
    "    booster = xgb.train(params, dtrain, num_boost_round=500,\n",
    "                        evals=[(dval, \"val\")],\n",
    "                        early_stopping_rounds=50, verbose_eval=False)\n",
    "    return booster.best_score\n",
    "\n",
    "study = optuna.create_study(direction=\"minimize\")\n",
    "study.optimize(objective, n_trials=40, show_progress_bar=True)\n",
    "print(\"Mejor pérdida log:\", study.best_value, \"\\nParams:\", study.best_params)\n"
   ]
  },
  {
   "cell_type": "code",
   "execution_count": 7,
   "id": "66452e71",
   "metadata": {},
   "outputs": [
    {
     "name": "stdout",
     "output_type": "stream",
     "text": [
      "LogLoss test: 0.6386164832782223\n",
      "Accuracy  : 0.642555266579974\n"
     ]
    }
   ],
   "source": [
    "## 7 · Modelo final y evaluación en test\n",
    "best_params = {**study.best_params,\n",
    "               \"objective\": \"binary:logistic\",\n",
    "               \"eval_metric\": \"logloss\"}\n",
    "model = xgb.train(best_params, xgb.DMatrix(X_train, label=y_train),\n",
    "                  num_boost_round=study.best_trial.number)\n",
    "\n",
    "y_pred = model.predict(xgb.DMatrix(X_test))\n",
    "print(\"LogLoss test:\", log_loss(y_test, y_pred))\n",
    "print(\"Accuracy  :\", accuracy_score(y_test, (y_pred>=0.5).astype(int)))\n"
   ]
  },
  {
   "cell_type": "code",
   "execution_count": 8,
   "id": "56a20ba3",
   "metadata": {},
   "outputs": [
    {
     "name": "stdout",
     "output_type": "stream",
     "text": [
      "Draw cargado (64, 2)\n"
     ]
    },
    {
     "name": "stderr",
     "output_type": "stream",
     "text": [
      "C:\\Users\\ianam\\AppData\\Local\\Temp\\ipykernel_30408\\3976213852.py:20: DtypeWarning: Columns (7) have mixed types. Specify dtype option on import or set low_memory=False.\n",
      "  players = pd.read_csv(players_csv)\n"
     ]
    }
   ],
   "source": [
    "## 8 · Carga del cuadro AO 2025 y utilidades\n",
    "def load_draw_with_ids(path_draw: Path, *, players_csv=PLAYERS_CSV) -> pd.DataFrame:\n",
    "\n",
    "    #Devuelve DataFrame con `player1_id`, `player2_id`.\n",
    "    #Acepta columnas `PLAYER_1/PLAYER_2` con nombre+país.\n",
    "\n",
    "    draw = pd.read_csv(path_draw)\n",
    "\n",
    "    # ↓ Normaliza nombres y extrae IDs ↓\n",
    "    def clean(name):\n",
    "        return re.sub(r\"\\s*\\([^)]*\\)\", \"\", str(name)).strip().lower()\n",
    "\n",
    "    if {\"player1_id\", \"player2_id\"}.issubset(draw.columns):\n",
    "        return draw[[\"player1_id\", \"player2_id\"]].astype(int)\n",
    "\n",
    "    # Detecta columnas de nombres (case‑insensitive)\n",
    "    name_cols = [c for c in draw.columns if c.lower() in {\"player1\", \"player_1\", \"player2\", \"player_2\", \"name1\", \"name2\", \"player\", \"player_\"}]\n",
    "    if len(name_cols) >= 2:\n",
    "        p1, p2 = name_cols[:2]\n",
    "        players = pd.read_csv(players_csv)\n",
    "        name_map = {clean(f\"{r.name_first} {r.name_last}\"): r.player_id\n",
    "                    for r in players.itertuples()}\n",
    "        p1_ids = draw[p1].apply(lambda x: name_map.get(clean(x), np.nan))\n",
    "        p2_ids = draw[p2].apply(lambda x: name_map.get(clean(x), np.nan))\n",
    "        if p1_ids.isna().any() or p2_ids.isna().any():\n",
    "            missing = draw.loc[p1_ids.isna() | p2_ids.isna(), [p1, p2]]\n",
    "            raise ValueError(f\"No se encontraron IDs para:\\n{missing.head()}\")\n",
    "        return pd.DataFrame({\"player1_id\": p1_ids.astype(int), \"player2_id\": p2_ids.astype(int)})\n",
    "\n",
    "    raise ValueError(\"Formato de draw no reconocido → columnas presentes:\", draw.columns)\n",
    "\n",
    "# Cargar draw listo para usar\n",
    "SURFACE = \"Hard\"\n",
    "draw_df = load_draw_with_ids(DRAW_CSV)\n",
    "print(\"Draw cargado\", draw_df.shape)\n"
   ]
  },
  {
   "cell_type": "code",
   "execution_count": 9,
   "id": "b686f748",
   "metadata": {},
   "outputs": [
    {
     "name": "stdout",
     "output_type": "stream",
     "text": [
      "🏆  Predicted champion ID: 206173\n"
     ]
    }
   ],
   "source": [
    "## 9 · Simulación ronda por ronda\n",
    "ALPHA, K = 0.30, 32\n",
    "current       = draw_df.copy()\n",
    "round_num     = 1\n",
    "round_results = []  # lista de DF por ronda\n",
    "\n",
    "# Etiquetas human‑friendly para cada ronda (32‑draw → ajusta si cambia)\n",
    "round_labels = {\n",
    "    1: \"1st Round\", 2: \"2nd Round\", 3: \"3rd Round\", 4: \"4th Round\",\n",
    "    5: \"QF\", 6: \"SF\", 7: \"Final\"\n",
    "}\n",
    "\n",
    "while True:\n",
    "    # --- Elo previo a cada match ---\n",
    "    a_elo = current.player1_id.apply(lambda pid: (1-ALPHA)*final_overall.get(pid,1500)+ALPHA*final_surface.get(pid,{}).get(SURFACE,1500))\n",
    "    b_elo = current.player2_id.apply(lambda pid: (1-ALPHA)*final_overall.get(pid,1500)+ALPHA*final_surface.get(pid,{}).get(SURFACE,1500))\n",
    "    dmat  = xgb.DMatrix(pd.DataFrame({\"a_elo\":a_elo, \"b_elo\":b_elo, \"delta_elo\":a_elo-b_elo}))\n",
    "\n",
    "    proba   = model.predict(dmat)\n",
    "    winners = np.where(proba>=0.5, current.player1_id, current.player2_id)\n",
    "\n",
    "    # Guarda resultado ronda\n",
    "        # ---- Guarda resultado de la ronda ----\n",
    "    round_df = current.copy()\n",
    "    round_df[\"winner_id\"] = winners\n",
    "    round_df[\"round\"]    = round_labels.get(round_num, f\"R{round_num}\")\n",
    "    round_results.append(round_df)\n",
    "\n",
    "    # Actualiza Elo con un K reducido (menor volatilidad que hist.)\n",
    "    for pid_w, pid_l in zip(winners, np.where(proba>=0.5, current.player2_id, current.player1_id)):\n",
    "        delta_k = K * (1 - 1/(1+10**(((final_overall[pid_l]-final_overall[pid_w])/400))))\n",
    "        final_overall[pid_w] += delta_k; final_overall[pid_l] -= delta_k\n",
    "        final_surface[pid_w][SURFACE] += delta_k; final_surface[pid_l][SURFACE] -= delta_k\n",
    "\n",
    "    if len(winners) == 1:\n",
    "        champion_id = int(winners[0]); break\n",
    "    current = pd.DataFrame({\"player1_id\": winners[::2], \"player2_id\": winners[1::2]})\n",
    "    round_num += 1\n",
    "\n",
    "print(f\"🏆  Predicted champion ID: {champion_id}\")\n"
   ]
  },
  {
   "cell_type": "code",
   "execution_count": 10,
   "id": "f42a80d8",
   "metadata": {},
   "outputs": [
    {
     "data": {
      "text/html": [
       "<style type=\"text/css\">\n",
       "</style>\n",
       "<table id=\"T_61472\">\n",
       "  <caption>1st Round</caption>\n",
       "  <thead>\n",
       "    <tr>\n",
       "      <th id=\"T_61472_level0_col0\" class=\"col_heading level0 col0\" >player1_id</th>\n",
       "      <th id=\"T_61472_level0_col1\" class=\"col_heading level0 col1\" >player1_name</th>\n",
       "      <th id=\"T_61472_level0_col2\" class=\"col_heading level0 col2\" >player2_id</th>\n",
       "      <th id=\"T_61472_level0_col3\" class=\"col_heading level0 col3\" >player2_name</th>\n",
       "      <th id=\"T_61472_level0_col4\" class=\"col_heading level0 col4\" >winner_id</th>\n",
       "      <th id=\"T_61472_level0_col5\" class=\"col_heading level0 col5\" >winner_name</th>\n",
       "    </tr>\n",
       "  </thead>\n",
       "  <tbody>\n",
       "    <tr>\n",
       "      <td id=\"T_61472_row0_col0\" class=\"data row0 col0\" >206173</td>\n",
       "      <td id=\"T_61472_row0_col1\" class=\"data row0 col1\" >Jannik Sinner</td>\n",
       "      <td id=\"T_61472_row0_col2\" class=\"data row0 col2\" >111797</td>\n",
       "      <td id=\"T_61472_row0_col3\" class=\"data row0 col3\" >Nicolas Jarry</td>\n",
       "      <td id=\"T_61472_row0_col4\" class=\"data row0 col4\" >206173</td>\n",
       "      <td id=\"T_61472_row0_col5\" class=\"data row0 col5\" >Jannik Sinner</td>\n",
       "    </tr>\n",
       "    <tr>\n",
       "      <td id=\"T_61472_row1_col0\" class=\"data row1 col0\" >209262</td>\n",
       "      <td id=\"T_61472_row1_col1\" class=\"data row1 col1\" >Tristan Schoolkate</td>\n",
       "      <td id=\"T_61472_row1_col2\" class=\"data row1 col2\" >106121</td>\n",
       "      <td id=\"T_61472_row1_col3\" class=\"data row1 col3\" >Taro Daniel</td>\n",
       "      <td id=\"T_61472_row1_col4\" class=\"data row1 col4\" >106121</td>\n",
       "      <td id=\"T_61472_row1_col5\" class=\"data row1 col5\" >Taro Daniel</td>\n",
       "    </tr>\n",
       "    <tr>\n",
       "      <td id=\"T_61472_row2_col0\" class=\"data row2 col0\" >106218</td>\n",
       "      <td id=\"T_61472_row2_col1\" class=\"data row2 col1\" >Marcos Giron</td>\n",
       "      <td id=\"T_61472_row2_col2\" class=\"data row2 col2\" >105870</td>\n",
       "      <td id=\"T_61472_row2_col3\" class=\"data row2 col3\" >Yannick Hanfmann</td>\n",
       "      <td id=\"T_61472_row2_col4\" class=\"data row2 col4\" >106218</td>\n",
       "      <td id=\"T_61472_row2_col5\" class=\"data row2 col5\" >Marcos Giron</td>\n",
       "    </tr>\n",
       "    <tr>\n",
       "      <td id=\"T_61472_row3_col0\" class=\"data row3 col0\" >144869</td>\n",
       "      <td id=\"T_61472_row3_col1\" class=\"data row3 col1\" >Tomas Martin Etcheverry</td>\n",
       "      <td id=\"T_61472_row3_col2\" class=\"data row3 col2\" >207925</td>\n",
       "      <td id=\"T_61472_row3_col3\" class=\"data row3 col3\" >Flavio Cobolli</td>\n",
       "      <td id=\"T_61472_row3_col4\" class=\"data row3 col4\" >207925</td>\n",
       "      <td id=\"T_61472_row3_col5\" class=\"data row3 col5\" >Flavio Cobolli</td>\n",
       "    </tr>\n",
       "    <tr>\n",
       "      <td id=\"T_61472_row4_col0\" class=\"data row4 col0\" >128034</td>\n",
       "      <td id=\"T_61472_row4_col1\" class=\"data row4 col1\" >Hubert Hurkacz</td>\n",
       "      <td id=\"T_61472_row4_col2\" class=\"data row4 col2\" >134868</td>\n",
       "      <td id=\"T_61472_row4_col3\" class=\"data row4 col3\" >Tallon Griekspoor</td>\n",
       "      <td id=\"T_61472_row4_col4\" class=\"data row4 col4\" >128034</td>\n",
       "      <td id=\"T_61472_row4_col5\" class=\"data row4 col5\" >Hubert Hurkacz</td>\n",
       "    </tr>\n",
       "    <tr>\n",
       "      <td id=\"T_61472_row5_col0\" class=\"data row5 col0\" >200175</td>\n",
       "      <td id=\"T_61472_row5_col1\" class=\"data row5 col1\" >Miomir Kecmanovic</td>\n",
       "      <td id=\"T_61472_row5_col2\" class=\"data row5 col2\" >105583</td>\n",
       "      <td id=\"T_61472_row5_col3\" class=\"data row5 col3\" >Dusan Lajovic</td>\n",
       "      <td id=\"T_61472_row5_col4\" class=\"data row5 col4\" >200175</td>\n",
       "      <td id=\"T_61472_row5_col5\" class=\"data row5 col5\" >Miomir Kecmanovic</td>\n",
       "    </tr>\n",
       "    <tr>\n",
       "      <td id=\"T_61472_row6_col0\" class=\"data row6 col0\" >126610</td>\n",
       "      <td id=\"T_61472_row6_col1\" class=\"data row6 col1\" >Matteo Berrettini</td>\n",
       "      <td id=\"T_61472_row6_col2\" class=\"data row6 col2\" >111815</td>\n",
       "      <td id=\"T_61472_row6_col3\" class=\"data row6 col3\" >Cameron Norrie</td>\n",
       "      <td id=\"T_61472_row6_col4\" class=\"data row6 col4\" >126610</td>\n",
       "      <td id=\"T_61472_row6_col5\" class=\"data row6 col5\" >Matteo Berrettini</td>\n",
       "    </tr>\n",
       "    <tr>\n",
       "      <td id=\"T_61472_row7_col0\" class=\"data row7 col0\" >111190</td>\n",
       "      <td id=\"T_61472_row7_col1\" class=\"data row7 col1\" >Zhizhen Zhang</td>\n",
       "      <td id=\"T_61472_row7_col2\" class=\"data row7 col2\" >208029</td>\n",
       "      <td id=\"T_61472_row7_col3\" class=\"data row7 col3\" >Holger Rune</td>\n",
       "      <td id=\"T_61472_row7_col4\" class=\"data row7 col4\" >208029</td>\n",
       "      <td id=\"T_61472_row7_col5\" class=\"data row7 col5\" >Holger Rune</td>\n",
       "    </tr>\n",
       "    <tr>\n",
       "      <td id=\"T_61472_row8_col0\" class=\"data row8 col0\" >126774</td>\n",
       "      <td id=\"T_61472_row8_col1\" class=\"data row8 col1\" >Stefanos Tsitsipas</td>\n",
       "      <td id=\"T_61472_row8_col2\" class=\"data row8 col2\" >210506</td>\n",
       "      <td id=\"T_61472_row8_col3\" class=\"data row8 col3\" >Alex Michelsen</td>\n",
       "      <td id=\"T_61472_row8_col4\" class=\"data row8 col4\" >126774</td>\n",
       "      <td id=\"T_61472_row8_col5\" class=\"data row8 col5\" >Stefanos Tsitsipas</td>\n",
       "    </tr>\n",
       "    <tr>\n",
       "      <td id=\"T_61472_row9_col0\" class=\"data row9 col0\" >210317</td>\n",
       "      <td id=\"T_61472_row9_col1\" class=\"data row9 col1\" >James Mccabe</td>\n",
       "      <td id=\"T_61472_row9_col2\" class=\"data row9 col2\" >212021</td>\n",
       "      <td id=\"T_61472_row9_col3\" class=\"data row9 col3\" >Martin Landaluce</td>\n",
       "      <td id=\"T_61472_row9_col4\" class=\"data row9 col4\" >212021</td>\n",
       "      <td id=\"T_61472_row9_col5\" class=\"data row9 col5\" >Martin Landaluce</td>\n",
       "    </tr>\n",
       "    <tr>\n",
       "      <td id=\"T_61472_row10_col0\" class=\"data row10 col0\" >209113</td>\n",
       "      <td id=\"T_61472_row10_col1\" class=\"data row10 col1\" >Gabriel Diallo</td>\n",
       "      <td id=\"T_61472_row10_col2\" class=\"data row10 col2\" >208134</td>\n",
       "      <td id=\"T_61472_row10_col3\" class=\"data row10 col3\" >Luca Nardi</td>\n",
       "      <td id=\"T_61472_row10_col4\" class=\"data row10 col4\" >209113</td>\n",
       "      <td id=\"T_61472_row10_col5\" class=\"data row10 col5\" >Gabriel Diallo</td>\n",
       "    </tr>\n",
       "    <tr>\n",
       "      <td id=\"T_61472_row11_col0\" class=\"data row11 col0\" >105173</td>\n",
       "      <td id=\"T_61472_row11_col1\" class=\"data row11 col1\" >Adrian Mannarino</td>\n",
       "      <td id=\"T_61472_row11_col2\" class=\"data row11 col2\" >111575</td>\n",
       "      <td id=\"T_61472_row11_col3\" class=\"data row11 col3\" >Karen Khachanov</td>\n",
       "      <td id=\"T_61472_row11_col4\" class=\"data row11 col4\" >111575</td>\n",
       "      <td id=\"T_61472_row11_col5\" class=\"data row11 col5\" >Karen Khachanov</td>\n",
       "    </tr>\n",
       "    <tr>\n",
       "      <td id=\"T_61472_row12_col0\" class=\"data row12 col0\" >202103</td>\n",
       "      <td id=\"T_61472_row12_col1\" class=\"data row12 col1\" >Francisco Cerundolo</td>\n",
       "      <td id=\"T_61472_row12_col2\" class=\"data row12 col2\" >122330</td>\n",
       "      <td id=\"T_61472_row12_col3\" class=\"data row12 col3\" >Alexander Bublik</td>\n",
       "      <td id=\"T_61472_row12_col4\" class=\"data row12 col4\" >202103</td>\n",
       "      <td id=\"T_61472_row12_col5\" class=\"data row12 col5\" >Francisco Cerundolo</td>\n",
       "    </tr>\n",
       "    <tr>\n",
       "      <td id=\"T_61472_row13_col0\" class=\"data row13 col0\" >207680</td>\n",
       "      <td id=\"T_61472_row13_col1\" class=\"data row13 col1\" >Facundo Diaz Acosta</td>\n",
       "      <td id=\"T_61472_row13_col2\" class=\"data row13 col2\" >200267</td>\n",
       "      <td id=\"T_61472_row13_col3\" class=\"data row13 col3\" >Zizou Bergs</td>\n",
       "      <td id=\"T_61472_row13_col4\" class=\"data row13 col4\" >200267</td>\n",
       "      <td id=\"T_61472_row13_col5\" class=\"data row13 col5\" >Zizou Bergs</td>\n",
       "    </tr>\n",
       "    <tr>\n",
       "      <td id=\"T_61472_row14_col0\" class=\"data row14 col0\" >207729</td>\n",
       "      <td id=\"T_61472_row14_col1\" class=\"data row14 col1\" >Tristan Boyer</td>\n",
       "      <td id=\"T_61472_row14_col2\" class=\"data row14 col2\" >105948</td>\n",
       "      <td id=\"T_61472_row14_col3\" class=\"data row14 col3\" >Federico Coria</td>\n",
       "      <td id=\"T_61472_row14_col4\" class=\"data row14 col4\" >105948</td>\n",
       "      <td id=\"T_61472_row14_col5\" class=\"data row14 col5\" >Federico Coria</td>\n",
       "    </tr>\n",
       "    <tr>\n",
       "      <td id=\"T_61472_row15_col0\" class=\"data row15 col0\" >122298</td>\n",
       "      <td id=\"T_61472_row15_col1\" class=\"data row15 col1\" >Botic Van De Zandschulp</td>\n",
       "      <td id=\"T_61472_row15_col2\" class=\"data row15 col2\" >200282</td>\n",
       "      <td id=\"T_61472_row15_col3\" class=\"data row15 col3\" >Alex De Minaur</td>\n",
       "      <td id=\"T_61472_row15_col4\" class=\"data row15 col4\" >200282</td>\n",
       "      <td id=\"T_61472_row15_col5\" class=\"data row15 col5\" >Alex De Minaur</td>\n",
       "    </tr>\n",
       "    <tr>\n",
       "      <td id=\"T_61472_row16_col0\" class=\"data row16 col0\" >126203</td>\n",
       "      <td id=\"T_61472_row16_col1\" class=\"data row16 col1\" >Taylor Fritz</td>\n",
       "      <td id=\"T_61472_row16_col2\" class=\"data row16 col2\" >202385</td>\n",
       "      <td id=\"T_61472_row16_col3\" class=\"data row16 col3\" >Jenson Brooksby</td>\n",
       "      <td id=\"T_61472_row16_col4\" class=\"data row16 col4\" >126203</td>\n",
       "      <td id=\"T_61472_row16_col5\" class=\"data row16 col5\" >Taylor Fritz</td>\n",
       "    </tr>\n",
       "    <tr>\n",
       "      <td id=\"T_61472_row17_col0\" class=\"data row17 col0\" >106432</td>\n",
       "      <td id=\"T_61472_row17_col1\" class=\"data row17 col1\" >Borna Coric</td>\n",
       "      <td id=\"T_61472_row17_col2\" class=\"data row17 col2\" >106426</td>\n",
       "      <td id=\"T_61472_row17_col3\" class=\"data row17 col3\" >Cristian Garin</td>\n",
       "      <td id=\"T_61472_row17_col4\" class=\"data row17 col4\" >106432</td>\n",
       "      <td id=\"T_61472_row17_col5\" class=\"data row17 col5\" >Borna Coric</td>\n",
       "    </tr>\n",
       "    <tr>\n",
       "      <td id=\"T_61472_row18_col0\" class=\"data row18 col0\" >207681</td>\n",
       "      <td id=\"T_61472_row18_col1\" class=\"data row18 col1\" >Francisco Comesana</td>\n",
       "      <td id=\"T_61472_row18_col2\" class=\"data row18 col2\" >127157</td>\n",
       "      <td id=\"T_61472_row18_col3\" class=\"data row18 col3\" >Daniel Altmaier</td>\n",
       "      <td id=\"T_61472_row18_col4\" class=\"data row18 col4\" >207681</td>\n",
       "      <td id=\"T_61472_row18_col5\" class=\"data row18 col5\" >Francisco Comesana</td>\n",
       "    </tr>\n",
       "    <tr>\n",
       "      <td id=\"T_61472_row19_col0\" class=\"data row19 col0\" >104792</td>\n",
       "      <td id=\"T_61472_row19_col1\" class=\"data row19 col1\" >Gael Monfils</td>\n",
       "      <td id=\"T_61472_row19_col2\" class=\"data row19 col2\" >208659</td>\n",
       "      <td id=\"T_61472_row19_col3\" class=\"data row19 col3\" >Giovanni Mpetshi Perricard</td>\n",
       "      <td id=\"T_61472_row19_col4\" class=\"data row19 col4\" >104792</td>\n",
       "      <td id=\"T_61472_row19_col5\" class=\"data row19 col5\" >Gael Monfils</td>\n",
       "    </tr>\n",
       "    <tr>\n",
       "      <td id=\"T_61472_row20_col0\" class=\"data row20 col0\" >210097</td>\n",
       "      <td id=\"T_61472_row20_col1\" class=\"data row20 col1\" >Ben Shelton</td>\n",
       "      <td id=\"T_61472_row20_col2\" class=\"data row20 col2\" >206909</td>\n",
       "      <td id=\"T_61472_row20_col3\" class=\"data row20 col3\" >Brandon Nakashima</td>\n",
       "      <td id=\"T_61472_row20_col4\" class=\"data row20 col4\" >210097</td>\n",
       "      <td id=\"T_61472_row20_col5\" class=\"data row20 col5\" >Ben Shelton</td>\n",
       "    </tr>\n",
       "    <tr>\n",
       "      <td id=\"T_61472_row21_col0\" class=\"data row21 col0\" >105807</td>\n",
       "      <td id=\"T_61472_row21_col1\" class=\"data row21 col1\" >Pablo Carreno Busta</td>\n",
       "      <td id=\"T_61472_row21_col2\" class=\"data row21 col2\" >111794</td>\n",
       "      <td id=\"T_61472_row21_col3\" class=\"data row21 col3\" >Kamil Majchrzak</td>\n",
       "      <td id=\"T_61472_row21_col4\" class=\"data row21 col4\" >105807</td>\n",
       "      <td id=\"T_61472_row21_col5\" class=\"data row21 col5\" >Pablo Carreno Busta</td>\n",
       "    </tr>\n",
       "    <tr>\n",
       "      <td id=\"T_61472_row22_col0\" class=\"data row22 col0\" >105138</td>\n",
       "      <td id=\"T_61472_row22_col1\" class=\"data row22 col1\" >Roberto Bautista Agut</td>\n",
       "      <td id=\"T_61472_row22_col2\" class=\"data row22 col2\" >133430</td>\n",
       "      <td id=\"T_61472_row22_col3\" class=\"data row22 col3\" >Denis Shapovalov</td>\n",
       "      <td id=\"T_61472_row22_col4\" class=\"data row22 col4\" >133430</td>\n",
       "      <td id=\"T_61472_row22_col5\" class=\"data row22 col5\" >Denis Shapovalov</td>\n",
       "    </tr>\n",
       "    <tr>\n",
       "      <td id=\"T_61472_row23_col0\" class=\"data row23 col0\" >208286</td>\n",
       "      <td id=\"T_61472_row23_col1\" class=\"data row23 col1\" >Matteo Arnaldi</td>\n",
       "      <td id=\"T_61472_row23_col2\" class=\"data row23 col2\" >207518</td>\n",
       "      <td id=\"T_61472_row23_col3\" class=\"data row23 col3\" >Lorenzo Musetti</td>\n",
       "      <td id=\"T_61472_row23_col4\" class=\"data row23 col4\" >207518</td>\n",
       "      <td id=\"T_61472_row23_col5\" class=\"data row23 col5\" >Lorenzo Musetti</td>\n",
       "    </tr>\n",
       "    <tr>\n",
       "      <td id=\"T_61472_row24_col0\" class=\"data row24 col0\" >126094</td>\n",
       "      <td id=\"T_61472_row24_col1\" class=\"data row24 col1\" >Andrey Rublev</td>\n",
       "      <td id=\"T_61472_row24_col2\" class=\"data row24 col2\" >211663</td>\n",
       "      <td id=\"T_61472_row24_col3\" class=\"data row24 col3\" >Joao Fonseca</td>\n",
       "      <td id=\"T_61472_row24_col4\" class=\"data row24 col4\" >126094</td>\n",
       "      <td id=\"T_61472_row24_col5\" class=\"data row24 col5\" >Andrey Rublev</td>\n",
       "    </tr>\n",
       "    <tr>\n",
       "      <td id=\"T_61472_row25_col0\" class=\"data row25 col0\" >132283</td>\n",
       "      <td id=\"T_61472_row25_col1\" class=\"data row25 col1\" >Lorenzo Sonego</td>\n",
       "      <td id=\"T_61472_row25_col2\" class=\"data row25 col2\" >104527</td>\n",
       "      <td id=\"T_61472_row25_col3\" class=\"data row25 col3\" >Stan Wawrinka</td>\n",
       "      <td id=\"T_61472_row25_col4\" class=\"data row25 col4\" >104527</td>\n",
       "      <td id=\"T_61472_row25_col5\" class=\"data row25 col5\" >Stan Wawrinka</td>\n",
       "    </tr>\n",
       "    <tr>\n",
       "      <td id=\"T_61472_row26_col0\" class=\"data row26 col0\" >205734</td>\n",
       "      <td id=\"T_61472_row26_col1\" class=\"data row26 col1\" >Thiago Seyboth Wild</td>\n",
       "      <td id=\"T_61472_row26_col2\" class=\"data row26 col2\" >206681</td>\n",
       "      <td id=\"T_61472_row26_col3\" class=\"data row26 col3\" >Fabian Marozsan</td>\n",
       "      <td id=\"T_61472_row26_col4\" class=\"data row26 col4\" >206681</td>\n",
       "      <td id=\"T_61472_row26_col5\" class=\"data row26 col5\" >Fabian Marozsan</td>\n",
       "    </tr>\n",
       "    <tr>\n",
       "      <td id=\"T_61472_row27_col0\" class=\"data row27 col0\" >126239</td>\n",
       "      <td id=\"T_61472_row27_col1\" class=\"data row27 col1\" >Arthur Rinderknech</td>\n",
       "      <td id=\"T_61472_row27_col2\" class=\"data row27 col2\" >126207</td>\n",
       "      <td id=\"T_61472_row27_col3\" class=\"data row27 col3\" >Frances Tiafoe</td>\n",
       "      <td id=\"T_61472_row27_col4\" class=\"data row27 col4\" >126207</td>\n",
       "      <td id=\"T_61472_row27_col5\" class=\"data row27 col5\" >Frances Tiafoe</td>\n",
       "    </tr>\n",
       "    <tr>\n",
       "      <td id=\"T_61472_row28_col0\" class=\"data row28 col0\" >200615</td>\n",
       "      <td id=\"T_61472_row28_col1\" class=\"data row28 col1\" >Alexei Popyrin</td>\n",
       "      <td id=\"T_61472_row28_col2\" class=\"data row28 col2\" >144895</td>\n",
       "      <td id=\"T_61472_row28_col3\" class=\"data row28 col3\" >Corentin Moutet</td>\n",
       "      <td id=\"T_61472_row28_col4\" class=\"data row28 col4\" >200615</td>\n",
       "      <td id=\"T_61472_row28_col5\" class=\"data row28 col5\" >Alexei Popyrin</td>\n",
       "    </tr>\n",
       "    <tr>\n",
       "      <td id=\"T_61472_row29_col0\" class=\"data row29 col0\" >208014</td>\n",
       "      <td id=\"T_61472_row29_col1\" class=\"data row29 col1\" >Rinky Hijikata</td>\n",
       "      <td id=\"T_61472_row29_col2\" class=\"data row29 col2\" >106283</td>\n",
       "      <td id=\"T_61472_row29_col3\" class=\"data row29 col3\" >Mitchell Krueger</td>\n",
       "      <td id=\"T_61472_row29_col4\" class=\"data row29 col4\" >208014</td>\n",
       "      <td id=\"T_61472_row29_col5\" class=\"data row29 col5\" >Rinky Hijikata</td>\n",
       "    </tr>\n",
       "    <tr>\n",
       "      <td id=\"T_61472_row30_col0\" class=\"data row30 col0\" >200116</td>\n",
       "      <td id=\"T_61472_row30_col1\" class=\"data row30 col1\" >Camilo Ugo Carabelli</td>\n",
       "      <td id=\"T_61472_row30_col2\" class=\"data row30 col2\" >210530</td>\n",
       "      <td id=\"T_61472_row30_col3\" class=\"data row30 col3\" >Learner Tien</td>\n",
       "      <td id=\"T_61472_row30_col4\" class=\"data row30 col4\" >210530</td>\n",
       "      <td id=\"T_61472_row30_col5\" class=\"data row30 col5\" >Learner Tien</td>\n",
       "    </tr>\n",
       "    <tr>\n",
       "      <td id=\"T_61472_row31_col0\" class=\"data row31 col0\" >208937</td>\n",
       "      <td id=\"T_61472_row31_col1\" class=\"data row31 col1\" >Kasidit Samrej</td>\n",
       "      <td id=\"T_61472_row31_col2\" class=\"data row31 col2\" >106421</td>\n",
       "      <td id=\"T_61472_row31_col3\" class=\"data row31 col3\" >Daniil Medvedev</td>\n",
       "      <td id=\"T_61472_row31_col4\" class=\"data row31 col4\" >106421</td>\n",
       "      <td id=\"T_61472_row31_col5\" class=\"data row31 col5\" >Daniil Medvedev</td>\n",
       "    </tr>\n",
       "    <tr>\n",
       "      <td id=\"T_61472_row32_col0\" class=\"data row32 col0\" >104925</td>\n",
       "      <td id=\"T_61472_row32_col1\" class=\"data row32 col1\" >Novak Djokovic</td>\n",
       "      <td id=\"T_61472_row32_col2\" class=\"data row32 col2\" >210460</td>\n",
       "      <td id=\"T_61472_row32_col3\" class=\"data row32 col3\" >Nishesh Basavareddy</td>\n",
       "      <td id=\"T_61472_row32_col4\" class=\"data row32 col4\" >104925</td>\n",
       "      <td id=\"T_61472_row32_col5\" class=\"data row32 col5\" >Novak Djokovic</td>\n",
       "    </tr>\n",
       "    <tr>\n",
       "      <td id=\"T_61472_row33_col0\" class=\"data row33 col0\" >210262</td>\n",
       "      <td id=\"T_61472_row33_col1\" class=\"data row33 col1\" >Jaime Faria</td>\n",
       "      <td id=\"T_61472_row33_col2\" class=\"data row33 col2\" >200303</td>\n",
       "      <td id=\"T_61472_row33_col3\" class=\"data row33 col3\" >Pavel Kotov</td>\n",
       "      <td id=\"T_61472_row33_col4\" class=\"data row33 col4\" >200303</td>\n",
       "      <td id=\"T_61472_row33_col5\" class=\"data row33 col5\" >Pavel Kotov</td>\n",
       "    </tr>\n",
       "    <tr>\n",
       "      <td id=\"T_61472_row34_col0\" class=\"data row34 col0\" >200303</td>\n",
       "      <td id=\"T_61472_row34_col1\" class=\"data row34 col1\" >Pavel Kotov</td>\n",
       "      <td id=\"T_61472_row34_col2\" class=\"data row34 col2\" >124187</td>\n",
       "      <td id=\"T_61472_row34_col3\" class=\"data row34 col3\" >Reilly Opelka</td>\n",
       "      <td id=\"T_61472_row34_col4\" class=\"data row34 col4\" >124187</td>\n",
       "      <td id=\"T_61472_row34_col5\" class=\"data row34 col5\" >Reilly Opelka</td>\n",
       "    </tr>\n",
       "    <tr>\n",
       "      <td id=\"T_61472_row35_col0\" class=\"data row35 col0\" >111576</td>\n",
       "      <td id=\"T_61472_row35_col1\" class=\"data row35 col1\" >Sumit Nagal</td>\n",
       "      <td id=\"T_61472_row35_col2\" class=\"data row35 col2\" >207830</td>\n",
       "      <td id=\"T_61472_row35_col3\" class=\"data row35 col3\" >Tomas Machac</td>\n",
       "      <td id=\"T_61472_row35_col4\" class=\"data row35 col4\" >207830</td>\n",
       "      <td id=\"T_61472_row35_col5\" class=\"data row35 col5\" >Tomas Machac</td>\n",
       "    </tr>\n",
       "    <tr>\n",
       "      <td id=\"T_61472_row36_col0\" class=\"data row36 col0\" >208103</td>\n",
       "      <td id=\"T_61472_row36_col1\" class=\"data row36 col1\" >Jiri Lehecka</td>\n",
       "      <td id=\"T_61472_row36_col2\" class=\"data row36 col2\" >111454</td>\n",
       "      <td id=\"T_61472_row36_col3\" class=\"data row36 col3\" >Li Tu</td>\n",
       "      <td id=\"T_61472_row36_col4\" class=\"data row36 col4\" >208103</td>\n",
       "      <td id=\"T_61472_row36_col5\" class=\"data row36 col5\" >Jiri Lehecka</td>\n",
       "    </tr>\n",
       "    <tr>\n",
       "      <td id=\"T_61472_row37_col0\" class=\"data row37 col0\" >200384</td>\n",
       "      <td id=\"T_61472_row37_col1\" class=\"data row37 col1\" >Hugo Gaston</td>\n",
       "      <td id=\"T_61472_row37_col2\" class=\"data row37 col2\" >117357</td>\n",
       "      <td id=\"T_61472_row37_col3\" class=\"data row37 col3\" >Omar Jasika</td>\n",
       "      <td id=\"T_61472_row37_col4\" class=\"data row37 col4\" >200384</td>\n",
       "      <td id=\"T_61472_row37_col5\" class=\"data row37 col5\" >Hugo Gaston</td>\n",
       "    </tr>\n",
       "    <tr>\n",
       "      <td id=\"T_61472_row38_col0\" class=\"data row38 col0\" >105676</td>\n",
       "      <td id=\"T_61472_row38_col1\" class=\"data row38 col1\" >David Goffin</td>\n",
       "      <td id=\"T_61472_row38_col2\" class=\"data row38 col2\" >126127</td>\n",
       "      <td id=\"T_61472_row38_col3\" class=\"data row38 col3\" >Benjamin Bonzi</td>\n",
       "      <td id=\"T_61472_row38_col4\" class=\"data row38 col4\" >105676</td>\n",
       "      <td id=\"T_61472_row38_col5\" class=\"data row38 col5\" >David Goffin</td>\n",
       "    </tr>\n",
       "    <tr>\n",
       "      <td id=\"T_61472_row39_col0\" class=\"data row39 col0\" >208859</td>\n",
       "      <td id=\"T_61472_row39_col1\" class=\"data row39 col1\" >Francesco Passaro</td>\n",
       "      <td id=\"T_61472_row39_col2\" class=\"data row39 col2\" >105777</td>\n",
       "      <td id=\"T_61472_row39_col3\" class=\"data row39 col3\" >Grigor Dimitrov</td>\n",
       "      <td id=\"T_61472_row39_col4\" class=\"data row39 col4\" >105777</td>\n",
       "      <td id=\"T_61472_row39_col5\" class=\"data row39 col5\" >Grigor Dimitrov</td>\n",
       "    </tr>\n",
       "    <tr>\n",
       "      <td id=\"T_61472_row40_col0\" class=\"data row40 col0\" >207733</td>\n",
       "      <td id=\"T_61472_row40_col1\" class=\"data row40 col1\" >Jack Draper</td>\n",
       "      <td id=\"T_61472_row40_col2\" class=\"data row40 col2\" >208363</td>\n",
       "      <td id=\"T_61472_row40_col3\" class=\"data row40 col3\" >Mariano Navone</td>\n",
       "      <td id=\"T_61472_row40_col4\" class=\"data row40 col4\" >207733</td>\n",
       "      <td id=\"T_61472_row40_col5\" class=\"data row40 col5\" >Jack Draper</td>\n",
       "    </tr>\n",
       "    <tr>\n",
       "      <td id=\"T_61472_row41_col0\" class=\"data row41 col0\" >106423</td>\n",
       "      <td id=\"T_61472_row41_col1\" class=\"data row41 col1\" >Thanasi Kokkinakis</td>\n",
       "      <td id=\"T_61472_row41_col2\" class=\"data row41 col2\" >126128</td>\n",
       "      <td id=\"T_61472_row41_col3\" class=\"data row41 col3\" >Roman Safiullin</td>\n",
       "      <td id=\"T_61472_row41_col4\" class=\"data row41 col4\" >106423</td>\n",
       "      <td id=\"T_61472_row41_col5\" class=\"data row41 col5\" >Thanasi Kokkinakis</td>\n",
       "    </tr>\n",
       "    <tr>\n",
       "      <td id=\"T_61472_row42_col0\" class=\"data row42 col0\" >106000</td>\n",
       "      <td id=\"T_61472_row42_col1\" class=\"data row42 col1\" >Damir Dzumhur</td>\n",
       "      <td id=\"T_61472_row42_col2\" class=\"data row42 col2\" >126846</td>\n",
       "      <td id=\"T_61472_row42_col3\" class=\"data row42 col3\" >Aleksandar Vukic</td>\n",
       "      <td id=\"T_61472_row42_col4\" class=\"data row42 col4\" >126846</td>\n",
       "      <td id=\"T_61472_row42_col5\" class=\"data row42 col5\" >Aleksandar Vukic</td>\n",
       "    </tr>\n",
       "    <tr>\n",
       "      <td id=\"T_61472_row43_col0\" class=\"data row43 col0\" >127760</td>\n",
       "      <td id=\"T_61472_row43_col1\" class=\"data row43 col1\" >Lukas Klein</td>\n",
       "      <td id=\"T_61472_row43_col2\" class=\"data row43 col2\" >200624</td>\n",
       "      <td id=\"T_61472_row43_col3\" class=\"data row43 col3\" >Sebastian Korda</td>\n",
       "      <td id=\"T_61472_row43_col4\" class=\"data row43 col4\" >200624</td>\n",
       "      <td id=\"T_61472_row43_col5\" class=\"data row43 col5\" >Sebastian Korda</td>\n",
       "    </tr>\n",
       "    <tr>\n",
       "      <td id=\"T_61472_row44_col0\" class=\"data row44 col0\" >111442</td>\n",
       "      <td id=\"T_61472_row44_col1\" class=\"data row44 col1\" >Jordan Thompson</td>\n",
       "      <td id=\"T_61472_row44_col2\" class=\"data row44 col2\" >136440</td>\n",
       "      <td id=\"T_61472_row44_col3\" class=\"data row44 col3\" >Dominik Koepfer</td>\n",
       "      <td id=\"T_61472_row44_col4\" class=\"data row44 col4\" >111442</td>\n",
       "      <td id=\"T_61472_row44_col5\" class=\"data row44 col5\" >Jordan Thompson</td>\n",
       "    </tr>\n",
       "    <tr>\n",
       "      <td id=\"T_61472_row45_col0\" class=\"data row45 col0\" >124186</td>\n",
       "      <td id=\"T_61472_row45_col1\" class=\"data row45 col1\" >Alexandre Muller</td>\n",
       "      <td id=\"T_61472_row45_col2\" class=\"data row45 col2\" >132686</td>\n",
       "      <td id=\"T_61472_row45_col3\" class=\"data row45 col3\" >Nuno Borges</td>\n",
       "      <td id=\"T_61472_row45_col4\" class=\"data row45 col4\" >132686</td>\n",
       "      <td id=\"T_61472_row45_col5\" class=\"data row45 col5\" >Nuno Borges</td>\n",
       "    </tr>\n",
       "    <tr>\n",
       "      <td id=\"T_61472_row46_col0\" class=\"data row46 col0\" >106415</td>\n",
       "      <td id=\"T_61472_row46_col1\" class=\"data row46 col1\" >Yoshihito Nishioka</td>\n",
       "      <td id=\"T_61472_row46_col2\" class=\"data row46 col2\" >144826</td>\n",
       "      <td id=\"T_61472_row46_col3\" class=\"data row46 col3\" >Aziz Dougaz</td>\n",
       "      <td id=\"T_61472_row46_col4\" class=\"data row46 col4\" >106415</td>\n",
       "      <td id=\"T_61472_row46_col5\" class=\"data row46 col5\" >Yoshihito Nishioka</td>\n",
       "    </tr>\n",
       "    <tr>\n",
       "      <td id=\"T_61472_row47_col0\" class=\"data row47 col0\" >207686</td>\n",
       "      <td id=\"T_61472_row47_col1\" class=\"data row47 col1\" >Alexander Shevchenko</td>\n",
       "      <td id=\"T_61472_row47_col2\" class=\"data row47 col2\" >207989</td>\n",
       "      <td id=\"T_61472_row47_col3\" class=\"data row47 col3\" >Carlos Alcaraz</td>\n",
       "      <td id=\"T_61472_row47_col4\" class=\"data row47 col4\" >207989</td>\n",
       "      <td id=\"T_61472_row47_col5\" class=\"data row47 col5\" >Carlos Alcaraz</td>\n",
       "    </tr>\n",
       "    <tr>\n",
       "      <td id=\"T_61472_row48_col0\" class=\"data row48 col0\" >134770</td>\n",
       "      <td id=\"T_61472_row48_col1\" class=\"data row48 col1\" >Casper Ruud</td>\n",
       "      <td id=\"T_61472_row48_col2\" class=\"data row48 col2\" >144719</td>\n",
       "      <td id=\"T_61472_row48_col3\" class=\"data row48 col3\" >Jaume Munar</td>\n",
       "      <td id=\"T_61472_row48_col4\" class=\"data row48 col4\" >134770</td>\n",
       "      <td id=\"T_61472_row48_col5\" class=\"data row48 col5\" >Casper Ruud</td>\n",
       "    </tr>\n",
       "    <tr>\n",
       "      <td id=\"T_61472_row49_col0\" class=\"data row49 col0\" >105932</td>\n",
       "      <td id=\"T_61472_row49_col1\" class=\"data row49 col1\" >Nikoloz Basilashvili</td>\n",
       "      <td id=\"T_61472_row49_col2\" class=\"data row49 col2\" >210150</td>\n",
       "      <td id=\"T_61472_row49_col3\" class=\"data row49 col3\" >Jakub Mensik</td>\n",
       "      <td id=\"T_61472_row49_col4\" class=\"data row49 col4\" >210150</td>\n",
       "      <td id=\"T_61472_row49_col5\" class=\"data row49 col5\" >Jakub Mensik</td>\n",
       "    </tr>\n",
       "    <tr>\n",
       "      <td id=\"T_61472_row50_col0\" class=\"data row50 col0\" >210234</td>\n",
       "      <td id=\"T_61472_row50_col1\" class=\"data row50 col1\" >Juncheng Shang</td>\n",
       "      <td id=\"T_61472_row50_col2\" class=\"data row50 col2\" >200221</td>\n",
       "      <td id=\"T_61472_row50_col3\" class=\"data row50 col3\" >Alejandro Davidovich Fokina</td>\n",
       "      <td id=\"T_61472_row50_col4\" class=\"data row50 col4\" >200221</td>\n",
       "      <td id=\"T_61472_row50_col5\" class=\"data row50 col5\" >Alejandro Davidovich Fokina</td>\n",
       "    </tr>\n",
       "    <tr>\n",
       "      <td id=\"T_61472_row51_col0\" class=\"data row51 col0\" >105526</td>\n",
       "      <td id=\"T_61472_row51_col1\" class=\"data row51 col1\" >Jan Lennard Struff</td>\n",
       "      <td id=\"T_61472_row51_col2\" class=\"data row51 col2\" >200000</td>\n",
       "      <td id=\"T_61472_row51_col3\" class=\"data row51 col3\" >Felix Auger Aliassime</td>\n",
       "      <td id=\"T_61472_row51_col4\" class=\"data row51 col4\" >200000</td>\n",
       "      <td id=\"T_61472_row51_col5\" class=\"data row51 col5\" >Felix Auger Aliassime</td>\n",
       "    </tr>\n",
       "    <tr>\n",
       "      <td id=\"T_61472_row52_col0\" class=\"data row52 col0\" >126214</td>\n",
       "      <td id=\"T_61472_row52_col1\" class=\"data row52 col1\" >Alejandro Tabilo</td>\n",
       "      <td id=\"T_61472_row52_col2\" class=\"data row52 col2\" >106148</td>\n",
       "      <td id=\"T_61472_row52_col3\" class=\"data row52 col3\" >Roberto Carballes Baena</td>\n",
       "      <td id=\"T_61472_row52_col4\" class=\"data row52 col4\" >126214</td>\n",
       "      <td id=\"T_61472_row52_col5\" class=\"data row52 col5\" >Alejandro Tabilo</td>\n",
       "    </tr>\n",
       "    <tr>\n",
       "      <td id=\"T_61472_row53_col0\" class=\"data row53 col0\" >105902</td>\n",
       "      <td id=\"T_61472_row53_col1\" class=\"data row53 col1\" >James Duckworth</td>\n",
       "      <td id=\"T_61472_row53_col2\" class=\"data row53 col2\" >208502</td>\n",
       "      <td id=\"T_61472_row53_col3\" class=\"data row53 col3\" >Dominic Stricker</td>\n",
       "      <td id=\"T_61472_row53_col4\" class=\"data row53 col4\" >208502</td>\n",
       "      <td id=\"T_61472_row53_col5\" class=\"data row53 col5\" >Dominic Stricker</td>\n",
       "    </tr>\n",
       "    <tr>\n",
       "      <td id=\"T_61472_row54_col0\" class=\"data row54 col0\" >105453</td>\n",
       "      <td id=\"T_61472_row54_col1\" class=\"data row54 col1\" >Kei Nishikori</td>\n",
       "      <td id=\"T_61472_row54_col2\" class=\"data row54 col2\" >106329</td>\n",
       "      <td id=\"T_61472_row54_col3\" class=\"data row54 col3\" >Thiago Monteiro</td>\n",
       "      <td id=\"T_61472_row54_col4\" class=\"data row54 col4\" >105453</td>\n",
       "      <td id=\"T_61472_row54_col5\" class=\"data row54 col5\" >Kei Nishikori</td>\n",
       "    </tr>\n",
       "    <tr>\n",
       "      <td id=\"T_61472_row55_col0\" class=\"data row55 col0\" >106331</td>\n",
       "      <td id=\"T_61472_row55_col1\" class=\"data row55 col1\" >Christopher Oconnell</td>\n",
       "      <td id=\"T_61472_row55_col2\" class=\"data row55 col2\" >126205</td>\n",
       "      <td id=\"T_61472_row55_col3\" class=\"data row55 col3\" >Tommy Paul</td>\n",
       "      <td id=\"T_61472_row55_col4\" class=\"data row55 col4\" >126205</td>\n",
       "      <td id=\"T_61472_row55_col5\" class=\"data row55 col5\" >Tommy Paul</td>\n",
       "    </tr>\n",
       "    <tr>\n",
       "      <td id=\"T_61472_row56_col0\" class=\"data row56 col0\" >200005</td>\n",
       "      <td id=\"T_61472_row56_col1\" class=\"data row56 col1\" >Ugo Humbert</td>\n",
       "      <td id=\"T_61472_row56_col2\" class=\"data row56 col2\" >209263</td>\n",
       "      <td id=\"T_61472_row56_col3\" class=\"data row56 col3\" >Matteo Gigante</td>\n",
       "      <td id=\"T_61472_row56_col4\" class=\"data row56 col4\" >200005</td>\n",
       "      <td id=\"T_61472_row56_col5\" class=\"data row56 col5\" >Ugo Humbert</td>\n",
       "    </tr>\n",
       "    <tr>\n",
       "      <td id=\"T_61472_row57_col0\" class=\"data row57 col0\" >200273</td>\n",
       "      <td id=\"T_61472_row57_col1\" class=\"data row57 col1\" >Hady Habib</td>\n",
       "      <td id=\"T_61472_row57_col2\" class=\"data row57 col2\" >207352</td>\n",
       "      <td id=\"T_61472_row57_col3\" class=\"data row57 col3\" >Bu Yunchaokete</td>\n",
       "      <td id=\"T_61472_row57_col4\" class=\"data row57 col4\" >207352</td>\n",
       "      <td id=\"T_61472_row57_col5\" class=\"data row57 col5\" >Bu Yunchaokete</td>\n",
       "    </tr>\n",
       "    <tr>\n",
       "      <td id=\"T_61472_row58_col0\" class=\"data row58 col0\" >200443</td>\n",
       "      <td id=\"T_61472_row58_col1\" class=\"data row58 col1\" >Adam Walton</td>\n",
       "      <td id=\"T_61472_row58_col2\" class=\"data row58 col2\" >111460</td>\n",
       "      <td id=\"T_61472_row58_col3\" class=\"data row58 col3\" >Quentin Halys</td>\n",
       "      <td id=\"T_61472_row58_col4\" class=\"data row58 col4\" >111460</td>\n",
       "      <td id=\"T_61472_row58_col5\" class=\"data row58 col5\" >Quentin Halys</td>\n",
       "    </tr>\n",
       "    <tr>\n",
       "      <td id=\"T_61472_row59_col0\" class=\"data row59 col0\" >202261</td>\n",
       "      <td id=\"T_61472_row59_col1\" class=\"data row59 col1\" >Otto Virtanen</td>\n",
       "      <td id=\"T_61472_row59_col2\" class=\"data row59 col2\" >209950</td>\n",
       "      <td id=\"T_61472_row59_col3\" class=\"data row59 col3\" >Arthur Fils</td>\n",
       "      <td id=\"T_61472_row59_col4\" class=\"data row59 col4\" >209950</td>\n",
       "      <td id=\"T_61472_row59_col5\" class=\"data row59 col5\" >Arthur Fils</td>\n",
       "    </tr>\n",
       "    <tr>\n",
       "      <td id=\"T_61472_row60_col0\" class=\"data row60 col0\" >202104</td>\n",
       "      <td id=\"T_61472_row60_col1\" class=\"data row60 col1\" >Sebastian Baez</td>\n",
       "      <td id=\"T_61472_row60_col2\" class=\"data row60 col2\" >209070</td>\n",
       "      <td id=\"T_61472_row60_col3\" class=\"data row60 col3\" >Arthur Cazaux</td>\n",
       "      <td id=\"T_61472_row60_col4\" class=\"data row60 col4\" >209070</td>\n",
       "      <td id=\"T_61472_row60_col5\" class=\"data row60 col5\" >Arthur Cazaux</td>\n",
       "    </tr>\n",
       "    <tr>\n",
       "      <td id=\"T_61472_row61_col0\" class=\"data row61 col0\" >207985</td>\n",
       "      <td id=\"T_61472_row61_col1\" class=\"data row61 col1\" >Jacob Fearnley</td>\n",
       "      <td id=\"T_61472_row61_col2\" class=\"data row61 col2\" >106401</td>\n",
       "      <td id=\"T_61472_row61_col3\" class=\"data row61 col3\" >Nick Kyrgios</td>\n",
       "      <td id=\"T_61472_row61_col4\" class=\"data row61 col4\" >106401</td>\n",
       "      <td id=\"T_61472_row61_col5\" class=\"data row61 col5\" >Nick Kyrgios</td>\n",
       "    </tr>\n",
       "    <tr>\n",
       "      <td id=\"T_61472_row62_col0\" class=\"data row62 col0\" >124079</td>\n",
       "      <td id=\"T_61472_row62_col1\" class=\"data row62 col1\" >Pedro Martinez</td>\n",
       "      <td id=\"T_61472_row62_col2\" class=\"data row62 col2\" >209260</td>\n",
       "      <td id=\"T_61472_row62_col3\" class=\"data row62 col3\" >Luciano Darderi</td>\n",
       "      <td id=\"T_61472_row62_col4\" class=\"data row62 col4\" >124079</td>\n",
       "      <td id=\"T_61472_row62_col5\" class=\"data row62 col5\" >Pedro Martinez</td>\n",
       "    </tr>\n",
       "    <tr>\n",
       "      <td id=\"T_61472_row63_col0\" class=\"data row63 col0\" >106298</td>\n",
       "      <td id=\"T_61472_row63_col1\" class=\"data row63 col1\" >Lucas Pouille</td>\n",
       "      <td id=\"T_61472_row63_col2\" class=\"data row63 col2\" >100644</td>\n",
       "      <td id=\"T_61472_row63_col3\" class=\"data row63 col3\" >Alexander Zverev</td>\n",
       "      <td id=\"T_61472_row63_col4\" class=\"data row63 col4\" >100644</td>\n",
       "      <td id=\"T_61472_row63_col5\" class=\"data row63 col5\" >Alexander Zverev</td>\n",
       "    </tr>\n",
       "  </tbody>\n",
       "</table>\n"
      ],
      "text/plain": [
       "<pandas.io.formats.style.Styler at 0x242dfb0c3d0>"
      ]
     },
     "metadata": {},
     "output_type": "display_data"
    },
    {
     "data": {
      "text/html": [
       "<style type=\"text/css\">\n",
       "</style>\n",
       "<table id=\"T_2ff25\">\n",
       "  <caption>2nd Round</caption>\n",
       "  <thead>\n",
       "    <tr>\n",
       "      <th id=\"T_2ff25_level0_col0\" class=\"col_heading level0 col0\" >player1_id</th>\n",
       "      <th id=\"T_2ff25_level0_col1\" class=\"col_heading level0 col1\" >player1_name</th>\n",
       "      <th id=\"T_2ff25_level0_col2\" class=\"col_heading level0 col2\" >player2_id</th>\n",
       "      <th id=\"T_2ff25_level0_col3\" class=\"col_heading level0 col3\" >player2_name</th>\n",
       "      <th id=\"T_2ff25_level0_col4\" class=\"col_heading level0 col4\" >winner_id</th>\n",
       "      <th id=\"T_2ff25_level0_col5\" class=\"col_heading level0 col5\" >winner_name</th>\n",
       "    </tr>\n",
       "  </thead>\n",
       "  <tbody>\n",
       "    <tr>\n",
       "      <td id=\"T_2ff25_row0_col0\" class=\"data row0 col0\" >206173</td>\n",
       "      <td id=\"T_2ff25_row0_col1\" class=\"data row0 col1\" >Jannik Sinner</td>\n",
       "      <td id=\"T_2ff25_row0_col2\" class=\"data row0 col2\" >106121</td>\n",
       "      <td id=\"T_2ff25_row0_col3\" class=\"data row0 col3\" >Taro Daniel</td>\n",
       "      <td id=\"T_2ff25_row0_col4\" class=\"data row0 col4\" >206173</td>\n",
       "      <td id=\"T_2ff25_row0_col5\" class=\"data row0 col5\" >Jannik Sinner</td>\n",
       "    </tr>\n",
       "    <tr>\n",
       "      <td id=\"T_2ff25_row1_col0\" class=\"data row1 col0\" >106218</td>\n",
       "      <td id=\"T_2ff25_row1_col1\" class=\"data row1 col1\" >Marcos Giron</td>\n",
       "      <td id=\"T_2ff25_row1_col2\" class=\"data row1 col2\" >207925</td>\n",
       "      <td id=\"T_2ff25_row1_col3\" class=\"data row1 col3\" >Flavio Cobolli</td>\n",
       "      <td id=\"T_2ff25_row1_col4\" class=\"data row1 col4\" >207925</td>\n",
       "      <td id=\"T_2ff25_row1_col5\" class=\"data row1 col5\" >Flavio Cobolli</td>\n",
       "    </tr>\n",
       "    <tr>\n",
       "      <td id=\"T_2ff25_row2_col0\" class=\"data row2 col0\" >128034</td>\n",
       "      <td id=\"T_2ff25_row2_col1\" class=\"data row2 col1\" >Hubert Hurkacz</td>\n",
       "      <td id=\"T_2ff25_row2_col2\" class=\"data row2 col2\" >200175</td>\n",
       "      <td id=\"T_2ff25_row2_col3\" class=\"data row2 col3\" >Miomir Kecmanovic</td>\n",
       "      <td id=\"T_2ff25_row2_col4\" class=\"data row2 col4\" >128034</td>\n",
       "      <td id=\"T_2ff25_row2_col5\" class=\"data row2 col5\" >Hubert Hurkacz</td>\n",
       "    </tr>\n",
       "    <tr>\n",
       "      <td id=\"T_2ff25_row3_col0\" class=\"data row3 col0\" >126610</td>\n",
       "      <td id=\"T_2ff25_row3_col1\" class=\"data row3 col1\" >Matteo Berrettini</td>\n",
       "      <td id=\"T_2ff25_row3_col2\" class=\"data row3 col2\" >208029</td>\n",
       "      <td id=\"T_2ff25_row3_col3\" class=\"data row3 col3\" >Holger Rune</td>\n",
       "      <td id=\"T_2ff25_row3_col4\" class=\"data row3 col4\" >208029</td>\n",
       "      <td id=\"T_2ff25_row3_col5\" class=\"data row3 col5\" >Holger Rune</td>\n",
       "    </tr>\n",
       "    <tr>\n",
       "      <td id=\"T_2ff25_row4_col0\" class=\"data row4 col0\" >126774</td>\n",
       "      <td id=\"T_2ff25_row4_col1\" class=\"data row4 col1\" >Stefanos Tsitsipas</td>\n",
       "      <td id=\"T_2ff25_row4_col2\" class=\"data row4 col2\" >212021</td>\n",
       "      <td id=\"T_2ff25_row4_col3\" class=\"data row4 col3\" >Martin Landaluce</td>\n",
       "      <td id=\"T_2ff25_row4_col4\" class=\"data row4 col4\" >126774</td>\n",
       "      <td id=\"T_2ff25_row4_col5\" class=\"data row4 col5\" >Stefanos Tsitsipas</td>\n",
       "    </tr>\n",
       "    <tr>\n",
       "      <td id=\"T_2ff25_row5_col0\" class=\"data row5 col0\" >209113</td>\n",
       "      <td id=\"T_2ff25_row5_col1\" class=\"data row5 col1\" >Gabriel Diallo</td>\n",
       "      <td id=\"T_2ff25_row5_col2\" class=\"data row5 col2\" >111575</td>\n",
       "      <td id=\"T_2ff25_row5_col3\" class=\"data row5 col3\" >Karen Khachanov</td>\n",
       "      <td id=\"T_2ff25_row5_col4\" class=\"data row5 col4\" >111575</td>\n",
       "      <td id=\"T_2ff25_row5_col5\" class=\"data row5 col5\" >Karen Khachanov</td>\n",
       "    </tr>\n",
       "    <tr>\n",
       "      <td id=\"T_2ff25_row6_col0\" class=\"data row6 col0\" >202103</td>\n",
       "      <td id=\"T_2ff25_row6_col1\" class=\"data row6 col1\" >Francisco Cerundolo</td>\n",
       "      <td id=\"T_2ff25_row6_col2\" class=\"data row6 col2\" >200267</td>\n",
       "      <td id=\"T_2ff25_row6_col3\" class=\"data row6 col3\" >Zizou Bergs</td>\n",
       "      <td id=\"T_2ff25_row6_col4\" class=\"data row6 col4\" >202103</td>\n",
       "      <td id=\"T_2ff25_row6_col5\" class=\"data row6 col5\" >Francisco Cerundolo</td>\n",
       "    </tr>\n",
       "    <tr>\n",
       "      <td id=\"T_2ff25_row7_col0\" class=\"data row7 col0\" >105948</td>\n",
       "      <td id=\"T_2ff25_row7_col1\" class=\"data row7 col1\" >Federico Coria</td>\n",
       "      <td id=\"T_2ff25_row7_col2\" class=\"data row7 col2\" >200282</td>\n",
       "      <td id=\"T_2ff25_row7_col3\" class=\"data row7 col3\" >Alex De Minaur</td>\n",
       "      <td id=\"T_2ff25_row7_col4\" class=\"data row7 col4\" >200282</td>\n",
       "      <td id=\"T_2ff25_row7_col5\" class=\"data row7 col5\" >Alex De Minaur</td>\n",
       "    </tr>\n",
       "    <tr>\n",
       "      <td id=\"T_2ff25_row8_col0\" class=\"data row8 col0\" >126203</td>\n",
       "      <td id=\"T_2ff25_row8_col1\" class=\"data row8 col1\" >Taylor Fritz</td>\n",
       "      <td id=\"T_2ff25_row8_col2\" class=\"data row8 col2\" >106432</td>\n",
       "      <td id=\"T_2ff25_row8_col3\" class=\"data row8 col3\" >Borna Coric</td>\n",
       "      <td id=\"T_2ff25_row8_col4\" class=\"data row8 col4\" >126203</td>\n",
       "      <td id=\"T_2ff25_row8_col5\" class=\"data row8 col5\" >Taylor Fritz</td>\n",
       "    </tr>\n",
       "    <tr>\n",
       "      <td id=\"T_2ff25_row9_col0\" class=\"data row9 col0\" >207681</td>\n",
       "      <td id=\"T_2ff25_row9_col1\" class=\"data row9 col1\" >Francisco Comesana</td>\n",
       "      <td id=\"T_2ff25_row9_col2\" class=\"data row9 col2\" >104792</td>\n",
       "      <td id=\"T_2ff25_row9_col3\" class=\"data row9 col3\" >Gael Monfils</td>\n",
       "      <td id=\"T_2ff25_row9_col4\" class=\"data row9 col4\" >104792</td>\n",
       "      <td id=\"T_2ff25_row9_col5\" class=\"data row9 col5\" >Gael Monfils</td>\n",
       "    </tr>\n",
       "    <tr>\n",
       "      <td id=\"T_2ff25_row10_col0\" class=\"data row10 col0\" >210097</td>\n",
       "      <td id=\"T_2ff25_row10_col1\" class=\"data row10 col1\" >Ben Shelton</td>\n",
       "      <td id=\"T_2ff25_row10_col2\" class=\"data row10 col2\" >105807</td>\n",
       "      <td id=\"T_2ff25_row10_col3\" class=\"data row10 col3\" >Pablo Carreno Busta</td>\n",
       "      <td id=\"T_2ff25_row10_col4\" class=\"data row10 col4\" >210097</td>\n",
       "      <td id=\"T_2ff25_row10_col5\" class=\"data row10 col5\" >Ben Shelton</td>\n",
       "    </tr>\n",
       "    <tr>\n",
       "      <td id=\"T_2ff25_row11_col0\" class=\"data row11 col0\" >133430</td>\n",
       "      <td id=\"T_2ff25_row11_col1\" class=\"data row11 col1\" >Denis Shapovalov</td>\n",
       "      <td id=\"T_2ff25_row11_col2\" class=\"data row11 col2\" >207518</td>\n",
       "      <td id=\"T_2ff25_row11_col3\" class=\"data row11 col3\" >Lorenzo Musetti</td>\n",
       "      <td id=\"T_2ff25_row11_col4\" class=\"data row11 col4\" >133430</td>\n",
       "      <td id=\"T_2ff25_row11_col5\" class=\"data row11 col5\" >Denis Shapovalov</td>\n",
       "    </tr>\n",
       "    <tr>\n",
       "      <td id=\"T_2ff25_row12_col0\" class=\"data row12 col0\" >126094</td>\n",
       "      <td id=\"T_2ff25_row12_col1\" class=\"data row12 col1\" >Andrey Rublev</td>\n",
       "      <td id=\"T_2ff25_row12_col2\" class=\"data row12 col2\" >104527</td>\n",
       "      <td id=\"T_2ff25_row12_col3\" class=\"data row12 col3\" >Stan Wawrinka</td>\n",
       "      <td id=\"T_2ff25_row12_col4\" class=\"data row12 col4\" >126094</td>\n",
       "      <td id=\"T_2ff25_row12_col5\" class=\"data row12 col5\" >Andrey Rublev</td>\n",
       "    </tr>\n",
       "    <tr>\n",
       "      <td id=\"T_2ff25_row13_col0\" class=\"data row13 col0\" >206681</td>\n",
       "      <td id=\"T_2ff25_row13_col1\" class=\"data row13 col1\" >Fabian Marozsan</td>\n",
       "      <td id=\"T_2ff25_row13_col2\" class=\"data row13 col2\" >126207</td>\n",
       "      <td id=\"T_2ff25_row13_col3\" class=\"data row13 col3\" >Frances Tiafoe</td>\n",
       "      <td id=\"T_2ff25_row13_col4\" class=\"data row13 col4\" >126207</td>\n",
       "      <td id=\"T_2ff25_row13_col5\" class=\"data row13 col5\" >Frances Tiafoe</td>\n",
       "    </tr>\n",
       "    <tr>\n",
       "      <td id=\"T_2ff25_row14_col0\" class=\"data row14 col0\" >200615</td>\n",
       "      <td id=\"T_2ff25_row14_col1\" class=\"data row14 col1\" >Alexei Popyrin</td>\n",
       "      <td id=\"T_2ff25_row14_col2\" class=\"data row14 col2\" >208014</td>\n",
       "      <td id=\"T_2ff25_row14_col3\" class=\"data row14 col3\" >Rinky Hijikata</td>\n",
       "      <td id=\"T_2ff25_row14_col4\" class=\"data row14 col4\" >200615</td>\n",
       "      <td id=\"T_2ff25_row14_col5\" class=\"data row14 col5\" >Alexei Popyrin</td>\n",
       "    </tr>\n",
       "    <tr>\n",
       "      <td id=\"T_2ff25_row15_col0\" class=\"data row15 col0\" >210530</td>\n",
       "      <td id=\"T_2ff25_row15_col1\" class=\"data row15 col1\" >Learner Tien</td>\n",
       "      <td id=\"T_2ff25_row15_col2\" class=\"data row15 col2\" >106421</td>\n",
       "      <td id=\"T_2ff25_row15_col3\" class=\"data row15 col3\" >Daniil Medvedev</td>\n",
       "      <td id=\"T_2ff25_row15_col4\" class=\"data row15 col4\" >106421</td>\n",
       "      <td id=\"T_2ff25_row15_col5\" class=\"data row15 col5\" >Daniil Medvedev</td>\n",
       "    </tr>\n",
       "    <tr>\n",
       "      <td id=\"T_2ff25_row16_col0\" class=\"data row16 col0\" >104925</td>\n",
       "      <td id=\"T_2ff25_row16_col1\" class=\"data row16 col1\" >Novak Djokovic</td>\n",
       "      <td id=\"T_2ff25_row16_col2\" class=\"data row16 col2\" >200303</td>\n",
       "      <td id=\"T_2ff25_row16_col3\" class=\"data row16 col3\" >Pavel Kotov</td>\n",
       "      <td id=\"T_2ff25_row16_col4\" class=\"data row16 col4\" >104925</td>\n",
       "      <td id=\"T_2ff25_row16_col5\" class=\"data row16 col5\" >Novak Djokovic</td>\n",
       "    </tr>\n",
       "    <tr>\n",
       "      <td id=\"T_2ff25_row17_col0\" class=\"data row17 col0\" >124187</td>\n",
       "      <td id=\"T_2ff25_row17_col1\" class=\"data row17 col1\" >Reilly Opelka</td>\n",
       "      <td id=\"T_2ff25_row17_col2\" class=\"data row17 col2\" >207830</td>\n",
       "      <td id=\"T_2ff25_row17_col3\" class=\"data row17 col3\" >Tomas Machac</td>\n",
       "      <td id=\"T_2ff25_row17_col4\" class=\"data row17 col4\" >207830</td>\n",
       "      <td id=\"T_2ff25_row17_col5\" class=\"data row17 col5\" >Tomas Machac</td>\n",
       "    </tr>\n",
       "    <tr>\n",
       "      <td id=\"T_2ff25_row18_col0\" class=\"data row18 col0\" >208103</td>\n",
       "      <td id=\"T_2ff25_row18_col1\" class=\"data row18 col1\" >Jiri Lehecka</td>\n",
       "      <td id=\"T_2ff25_row18_col2\" class=\"data row18 col2\" >200384</td>\n",
       "      <td id=\"T_2ff25_row18_col3\" class=\"data row18 col3\" >Hugo Gaston</td>\n",
       "      <td id=\"T_2ff25_row18_col4\" class=\"data row18 col4\" >208103</td>\n",
       "      <td id=\"T_2ff25_row18_col5\" class=\"data row18 col5\" >Jiri Lehecka</td>\n",
       "    </tr>\n",
       "    <tr>\n",
       "      <td id=\"T_2ff25_row19_col0\" class=\"data row19 col0\" >105676</td>\n",
       "      <td id=\"T_2ff25_row19_col1\" class=\"data row19 col1\" >David Goffin</td>\n",
       "      <td id=\"T_2ff25_row19_col2\" class=\"data row19 col2\" >105777</td>\n",
       "      <td id=\"T_2ff25_row19_col3\" class=\"data row19 col3\" >Grigor Dimitrov</td>\n",
       "      <td id=\"T_2ff25_row19_col4\" class=\"data row19 col4\" >105777</td>\n",
       "      <td id=\"T_2ff25_row19_col5\" class=\"data row19 col5\" >Grigor Dimitrov</td>\n",
       "    </tr>\n",
       "    <tr>\n",
       "      <td id=\"T_2ff25_row20_col0\" class=\"data row20 col0\" >207733</td>\n",
       "      <td id=\"T_2ff25_row20_col1\" class=\"data row20 col1\" >Jack Draper</td>\n",
       "      <td id=\"T_2ff25_row20_col2\" class=\"data row20 col2\" >106423</td>\n",
       "      <td id=\"T_2ff25_row20_col3\" class=\"data row20 col3\" >Thanasi Kokkinakis</td>\n",
       "      <td id=\"T_2ff25_row20_col4\" class=\"data row20 col4\" >207733</td>\n",
       "      <td id=\"T_2ff25_row20_col5\" class=\"data row20 col5\" >Jack Draper</td>\n",
       "    </tr>\n",
       "    <tr>\n",
       "      <td id=\"T_2ff25_row21_col0\" class=\"data row21 col0\" >126846</td>\n",
       "      <td id=\"T_2ff25_row21_col1\" class=\"data row21 col1\" >Aleksandar Vukic</td>\n",
       "      <td id=\"T_2ff25_row21_col2\" class=\"data row21 col2\" >200624</td>\n",
       "      <td id=\"T_2ff25_row21_col3\" class=\"data row21 col3\" >Sebastian Korda</td>\n",
       "      <td id=\"T_2ff25_row21_col4\" class=\"data row21 col4\" >200624</td>\n",
       "      <td id=\"T_2ff25_row21_col5\" class=\"data row21 col5\" >Sebastian Korda</td>\n",
       "    </tr>\n",
       "    <tr>\n",
       "      <td id=\"T_2ff25_row22_col0\" class=\"data row22 col0\" >111442</td>\n",
       "      <td id=\"T_2ff25_row22_col1\" class=\"data row22 col1\" >Jordan Thompson</td>\n",
       "      <td id=\"T_2ff25_row22_col2\" class=\"data row22 col2\" >132686</td>\n",
       "      <td id=\"T_2ff25_row22_col3\" class=\"data row22 col3\" >Nuno Borges</td>\n",
       "      <td id=\"T_2ff25_row22_col4\" class=\"data row22 col4\" >111442</td>\n",
       "      <td id=\"T_2ff25_row22_col5\" class=\"data row22 col5\" >Jordan Thompson</td>\n",
       "    </tr>\n",
       "    <tr>\n",
       "      <td id=\"T_2ff25_row23_col0\" class=\"data row23 col0\" >106415</td>\n",
       "      <td id=\"T_2ff25_row23_col1\" class=\"data row23 col1\" >Yoshihito Nishioka</td>\n",
       "      <td id=\"T_2ff25_row23_col2\" class=\"data row23 col2\" >207989</td>\n",
       "      <td id=\"T_2ff25_row23_col3\" class=\"data row23 col3\" >Carlos Alcaraz</td>\n",
       "      <td id=\"T_2ff25_row23_col4\" class=\"data row23 col4\" >207989</td>\n",
       "      <td id=\"T_2ff25_row23_col5\" class=\"data row23 col5\" >Carlos Alcaraz</td>\n",
       "    </tr>\n",
       "    <tr>\n",
       "      <td id=\"T_2ff25_row24_col0\" class=\"data row24 col0\" >134770</td>\n",
       "      <td id=\"T_2ff25_row24_col1\" class=\"data row24 col1\" >Casper Ruud</td>\n",
       "      <td id=\"T_2ff25_row24_col2\" class=\"data row24 col2\" >210150</td>\n",
       "      <td id=\"T_2ff25_row24_col3\" class=\"data row24 col3\" >Jakub Mensik</td>\n",
       "      <td id=\"T_2ff25_row24_col4\" class=\"data row24 col4\" >134770</td>\n",
       "      <td id=\"T_2ff25_row24_col5\" class=\"data row24 col5\" >Casper Ruud</td>\n",
       "    </tr>\n",
       "    <tr>\n",
       "      <td id=\"T_2ff25_row25_col0\" class=\"data row25 col0\" >200221</td>\n",
       "      <td id=\"T_2ff25_row25_col1\" class=\"data row25 col1\" >Alejandro Davidovich Fokina</td>\n",
       "      <td id=\"T_2ff25_row25_col2\" class=\"data row25 col2\" >200000</td>\n",
       "      <td id=\"T_2ff25_row25_col3\" class=\"data row25 col3\" >Felix Auger Aliassime</td>\n",
       "      <td id=\"T_2ff25_row25_col4\" class=\"data row25 col4\" >200000</td>\n",
       "      <td id=\"T_2ff25_row25_col5\" class=\"data row25 col5\" >Felix Auger Aliassime</td>\n",
       "    </tr>\n",
       "    <tr>\n",
       "      <td id=\"T_2ff25_row26_col0\" class=\"data row26 col0\" >126214</td>\n",
       "      <td id=\"T_2ff25_row26_col1\" class=\"data row26 col1\" >Alejandro Tabilo</td>\n",
       "      <td id=\"T_2ff25_row26_col2\" class=\"data row26 col2\" >208502</td>\n",
       "      <td id=\"T_2ff25_row26_col3\" class=\"data row26 col3\" >Dominic Stricker</td>\n",
       "      <td id=\"T_2ff25_row26_col4\" class=\"data row26 col4\" >126214</td>\n",
       "      <td id=\"T_2ff25_row26_col5\" class=\"data row26 col5\" >Alejandro Tabilo</td>\n",
       "    </tr>\n",
       "    <tr>\n",
       "      <td id=\"T_2ff25_row27_col0\" class=\"data row27 col0\" >105453</td>\n",
       "      <td id=\"T_2ff25_row27_col1\" class=\"data row27 col1\" >Kei Nishikori</td>\n",
       "      <td id=\"T_2ff25_row27_col2\" class=\"data row27 col2\" >126205</td>\n",
       "      <td id=\"T_2ff25_row27_col3\" class=\"data row27 col3\" >Tommy Paul</td>\n",
       "      <td id=\"T_2ff25_row27_col4\" class=\"data row27 col4\" >126205</td>\n",
       "      <td id=\"T_2ff25_row27_col5\" class=\"data row27 col5\" >Tommy Paul</td>\n",
       "    </tr>\n",
       "    <tr>\n",
       "      <td id=\"T_2ff25_row28_col0\" class=\"data row28 col0\" >200005</td>\n",
       "      <td id=\"T_2ff25_row28_col1\" class=\"data row28 col1\" >Ugo Humbert</td>\n",
       "      <td id=\"T_2ff25_row28_col2\" class=\"data row28 col2\" >207352</td>\n",
       "      <td id=\"T_2ff25_row28_col3\" class=\"data row28 col3\" >Bu Yunchaokete</td>\n",
       "      <td id=\"T_2ff25_row28_col4\" class=\"data row28 col4\" >200005</td>\n",
       "      <td id=\"T_2ff25_row28_col5\" class=\"data row28 col5\" >Ugo Humbert</td>\n",
       "    </tr>\n",
       "    <tr>\n",
       "      <td id=\"T_2ff25_row29_col0\" class=\"data row29 col0\" >111460</td>\n",
       "      <td id=\"T_2ff25_row29_col1\" class=\"data row29 col1\" >Quentin Halys</td>\n",
       "      <td id=\"T_2ff25_row29_col2\" class=\"data row29 col2\" >209950</td>\n",
       "      <td id=\"T_2ff25_row29_col3\" class=\"data row29 col3\" >Arthur Fils</td>\n",
       "      <td id=\"T_2ff25_row29_col4\" class=\"data row29 col4\" >209950</td>\n",
       "      <td id=\"T_2ff25_row29_col5\" class=\"data row29 col5\" >Arthur Fils</td>\n",
       "    </tr>\n",
       "    <tr>\n",
       "      <td id=\"T_2ff25_row30_col0\" class=\"data row30 col0\" >209070</td>\n",
       "      <td id=\"T_2ff25_row30_col1\" class=\"data row30 col1\" >Arthur Cazaux</td>\n",
       "      <td id=\"T_2ff25_row30_col2\" class=\"data row30 col2\" >106401</td>\n",
       "      <td id=\"T_2ff25_row30_col3\" class=\"data row30 col3\" >Nick Kyrgios</td>\n",
       "      <td id=\"T_2ff25_row30_col4\" class=\"data row30 col4\" >106401</td>\n",
       "      <td id=\"T_2ff25_row30_col5\" class=\"data row30 col5\" >Nick Kyrgios</td>\n",
       "    </tr>\n",
       "    <tr>\n",
       "      <td id=\"T_2ff25_row31_col0\" class=\"data row31 col0\" >124079</td>\n",
       "      <td id=\"T_2ff25_row31_col1\" class=\"data row31 col1\" >Pedro Martinez</td>\n",
       "      <td id=\"T_2ff25_row31_col2\" class=\"data row31 col2\" >100644</td>\n",
       "      <td id=\"T_2ff25_row31_col3\" class=\"data row31 col3\" >Alexander Zverev</td>\n",
       "      <td id=\"T_2ff25_row31_col4\" class=\"data row31 col4\" >100644</td>\n",
       "      <td id=\"T_2ff25_row31_col5\" class=\"data row31 col5\" >Alexander Zverev</td>\n",
       "    </tr>\n",
       "  </tbody>\n",
       "</table>\n"
      ],
      "text/plain": [
       "<pandas.io.formats.style.Styler at 0x242d1417dd0>"
      ]
     },
     "metadata": {},
     "output_type": "display_data"
    },
    {
     "data": {
      "text/html": [
       "<style type=\"text/css\">\n",
       "</style>\n",
       "<table id=\"T_cbc0a\">\n",
       "  <caption>3rd Round</caption>\n",
       "  <thead>\n",
       "    <tr>\n",
       "      <th id=\"T_cbc0a_level0_col0\" class=\"col_heading level0 col0\" >player1_id</th>\n",
       "      <th id=\"T_cbc0a_level0_col1\" class=\"col_heading level0 col1\" >player1_name</th>\n",
       "      <th id=\"T_cbc0a_level0_col2\" class=\"col_heading level0 col2\" >player2_id</th>\n",
       "      <th id=\"T_cbc0a_level0_col3\" class=\"col_heading level0 col3\" >player2_name</th>\n",
       "      <th id=\"T_cbc0a_level0_col4\" class=\"col_heading level0 col4\" >winner_id</th>\n",
       "      <th id=\"T_cbc0a_level0_col5\" class=\"col_heading level0 col5\" >winner_name</th>\n",
       "    </tr>\n",
       "  </thead>\n",
       "  <tbody>\n",
       "    <tr>\n",
       "      <td id=\"T_cbc0a_row0_col0\" class=\"data row0 col0\" >206173</td>\n",
       "      <td id=\"T_cbc0a_row0_col1\" class=\"data row0 col1\" >Jannik Sinner</td>\n",
       "      <td id=\"T_cbc0a_row0_col2\" class=\"data row0 col2\" >207925</td>\n",
       "      <td id=\"T_cbc0a_row0_col3\" class=\"data row0 col3\" >Flavio Cobolli</td>\n",
       "      <td id=\"T_cbc0a_row0_col4\" class=\"data row0 col4\" >206173</td>\n",
       "      <td id=\"T_cbc0a_row0_col5\" class=\"data row0 col5\" >Jannik Sinner</td>\n",
       "    </tr>\n",
       "    <tr>\n",
       "      <td id=\"T_cbc0a_row1_col0\" class=\"data row1 col0\" >128034</td>\n",
       "      <td id=\"T_cbc0a_row1_col1\" class=\"data row1 col1\" >Hubert Hurkacz</td>\n",
       "      <td id=\"T_cbc0a_row1_col2\" class=\"data row1 col2\" >208029</td>\n",
       "      <td id=\"T_cbc0a_row1_col3\" class=\"data row1 col3\" >Holger Rune</td>\n",
       "      <td id=\"T_cbc0a_row1_col4\" class=\"data row1 col4\" >208029</td>\n",
       "      <td id=\"T_cbc0a_row1_col5\" class=\"data row1 col5\" >Holger Rune</td>\n",
       "    </tr>\n",
       "    <tr>\n",
       "      <td id=\"T_cbc0a_row2_col0\" class=\"data row2 col0\" >126774</td>\n",
       "      <td id=\"T_cbc0a_row2_col1\" class=\"data row2 col1\" >Stefanos Tsitsipas</td>\n",
       "      <td id=\"T_cbc0a_row2_col2\" class=\"data row2 col2\" >111575</td>\n",
       "      <td id=\"T_cbc0a_row2_col3\" class=\"data row2 col3\" >Karen Khachanov</td>\n",
       "      <td id=\"T_cbc0a_row2_col4\" class=\"data row2 col4\" >111575</td>\n",
       "      <td id=\"T_cbc0a_row2_col5\" class=\"data row2 col5\" >Karen Khachanov</td>\n",
       "    </tr>\n",
       "    <tr>\n",
       "      <td id=\"T_cbc0a_row3_col0\" class=\"data row3 col0\" >202103</td>\n",
       "      <td id=\"T_cbc0a_row3_col1\" class=\"data row3 col1\" >Francisco Cerundolo</td>\n",
       "      <td id=\"T_cbc0a_row3_col2\" class=\"data row3 col2\" >200282</td>\n",
       "      <td id=\"T_cbc0a_row3_col3\" class=\"data row3 col3\" >Alex De Minaur</td>\n",
       "      <td id=\"T_cbc0a_row3_col4\" class=\"data row3 col4\" >200282</td>\n",
       "      <td id=\"T_cbc0a_row3_col5\" class=\"data row3 col5\" >Alex De Minaur</td>\n",
       "    </tr>\n",
       "    <tr>\n",
       "      <td id=\"T_cbc0a_row4_col0\" class=\"data row4 col0\" >126203</td>\n",
       "      <td id=\"T_cbc0a_row4_col1\" class=\"data row4 col1\" >Taylor Fritz</td>\n",
       "      <td id=\"T_cbc0a_row4_col2\" class=\"data row4 col2\" >104792</td>\n",
       "      <td id=\"T_cbc0a_row4_col3\" class=\"data row4 col3\" >Gael Monfils</td>\n",
       "      <td id=\"T_cbc0a_row4_col4\" class=\"data row4 col4\" >126203</td>\n",
       "      <td id=\"T_cbc0a_row4_col5\" class=\"data row4 col5\" >Taylor Fritz</td>\n",
       "    </tr>\n",
       "    <tr>\n",
       "      <td id=\"T_cbc0a_row5_col0\" class=\"data row5 col0\" >210097</td>\n",
       "      <td id=\"T_cbc0a_row5_col1\" class=\"data row5 col1\" >Ben Shelton</td>\n",
       "      <td id=\"T_cbc0a_row5_col2\" class=\"data row5 col2\" >133430</td>\n",
       "      <td id=\"T_cbc0a_row5_col3\" class=\"data row5 col3\" >Denis Shapovalov</td>\n",
       "      <td id=\"T_cbc0a_row5_col4\" class=\"data row5 col4\" >210097</td>\n",
       "      <td id=\"T_cbc0a_row5_col5\" class=\"data row5 col5\" >Ben Shelton</td>\n",
       "    </tr>\n",
       "    <tr>\n",
       "      <td id=\"T_cbc0a_row6_col0\" class=\"data row6 col0\" >126094</td>\n",
       "      <td id=\"T_cbc0a_row6_col1\" class=\"data row6 col1\" >Andrey Rublev</td>\n",
       "      <td id=\"T_cbc0a_row6_col2\" class=\"data row6 col2\" >126207</td>\n",
       "      <td id=\"T_cbc0a_row6_col3\" class=\"data row6 col3\" >Frances Tiafoe</td>\n",
       "      <td id=\"T_cbc0a_row6_col4\" class=\"data row6 col4\" >126207</td>\n",
       "      <td id=\"T_cbc0a_row6_col5\" class=\"data row6 col5\" >Frances Tiafoe</td>\n",
       "    </tr>\n",
       "    <tr>\n",
       "      <td id=\"T_cbc0a_row7_col0\" class=\"data row7 col0\" >200615</td>\n",
       "      <td id=\"T_cbc0a_row7_col1\" class=\"data row7 col1\" >Alexei Popyrin</td>\n",
       "      <td id=\"T_cbc0a_row7_col2\" class=\"data row7 col2\" >106421</td>\n",
       "      <td id=\"T_cbc0a_row7_col3\" class=\"data row7 col3\" >Daniil Medvedev</td>\n",
       "      <td id=\"T_cbc0a_row7_col4\" class=\"data row7 col4\" >106421</td>\n",
       "      <td id=\"T_cbc0a_row7_col5\" class=\"data row7 col5\" >Daniil Medvedev</td>\n",
       "    </tr>\n",
       "    <tr>\n",
       "      <td id=\"T_cbc0a_row8_col0\" class=\"data row8 col0\" >104925</td>\n",
       "      <td id=\"T_cbc0a_row8_col1\" class=\"data row8 col1\" >Novak Djokovic</td>\n",
       "      <td id=\"T_cbc0a_row8_col2\" class=\"data row8 col2\" >207830</td>\n",
       "      <td id=\"T_cbc0a_row8_col3\" class=\"data row8 col3\" >Tomas Machac</td>\n",
       "      <td id=\"T_cbc0a_row8_col4\" class=\"data row8 col4\" >104925</td>\n",
       "      <td id=\"T_cbc0a_row8_col5\" class=\"data row8 col5\" >Novak Djokovic</td>\n",
       "    </tr>\n",
       "    <tr>\n",
       "      <td id=\"T_cbc0a_row9_col0\" class=\"data row9 col0\" >208103</td>\n",
       "      <td id=\"T_cbc0a_row9_col1\" class=\"data row9 col1\" >Jiri Lehecka</td>\n",
       "      <td id=\"T_cbc0a_row9_col2\" class=\"data row9 col2\" >105777</td>\n",
       "      <td id=\"T_cbc0a_row9_col3\" class=\"data row9 col3\" >Grigor Dimitrov</td>\n",
       "      <td id=\"T_cbc0a_row9_col4\" class=\"data row9 col4\" >105777</td>\n",
       "      <td id=\"T_cbc0a_row9_col5\" class=\"data row9 col5\" >Grigor Dimitrov</td>\n",
       "    </tr>\n",
       "    <tr>\n",
       "      <td id=\"T_cbc0a_row10_col0\" class=\"data row10 col0\" >207733</td>\n",
       "      <td id=\"T_cbc0a_row10_col1\" class=\"data row10 col1\" >Jack Draper</td>\n",
       "      <td id=\"T_cbc0a_row10_col2\" class=\"data row10 col2\" >200624</td>\n",
       "      <td id=\"T_cbc0a_row10_col3\" class=\"data row10 col3\" >Sebastian Korda</td>\n",
       "      <td id=\"T_cbc0a_row10_col4\" class=\"data row10 col4\" >207733</td>\n",
       "      <td id=\"T_cbc0a_row10_col5\" class=\"data row10 col5\" >Jack Draper</td>\n",
       "    </tr>\n",
       "    <tr>\n",
       "      <td id=\"T_cbc0a_row11_col0\" class=\"data row11 col0\" >111442</td>\n",
       "      <td id=\"T_cbc0a_row11_col1\" class=\"data row11 col1\" >Jordan Thompson</td>\n",
       "      <td id=\"T_cbc0a_row11_col2\" class=\"data row11 col2\" >207989</td>\n",
       "      <td id=\"T_cbc0a_row11_col3\" class=\"data row11 col3\" >Carlos Alcaraz</td>\n",
       "      <td id=\"T_cbc0a_row11_col4\" class=\"data row11 col4\" >207989</td>\n",
       "      <td id=\"T_cbc0a_row11_col5\" class=\"data row11 col5\" >Carlos Alcaraz</td>\n",
       "    </tr>\n",
       "    <tr>\n",
       "      <td id=\"T_cbc0a_row12_col0\" class=\"data row12 col0\" >134770</td>\n",
       "      <td id=\"T_cbc0a_row12_col1\" class=\"data row12 col1\" >Casper Ruud</td>\n",
       "      <td id=\"T_cbc0a_row12_col2\" class=\"data row12 col2\" >200000</td>\n",
       "      <td id=\"T_cbc0a_row12_col3\" class=\"data row12 col3\" >Felix Auger Aliassime</td>\n",
       "      <td id=\"T_cbc0a_row12_col4\" class=\"data row12 col4\" >200000</td>\n",
       "      <td id=\"T_cbc0a_row12_col5\" class=\"data row12 col5\" >Felix Auger Aliassime</td>\n",
       "    </tr>\n",
       "    <tr>\n",
       "      <td id=\"T_cbc0a_row13_col0\" class=\"data row13 col0\" >126214</td>\n",
       "      <td id=\"T_cbc0a_row13_col1\" class=\"data row13 col1\" >Alejandro Tabilo</td>\n",
       "      <td id=\"T_cbc0a_row13_col2\" class=\"data row13 col2\" >126205</td>\n",
       "      <td id=\"T_cbc0a_row13_col3\" class=\"data row13 col3\" >Tommy Paul</td>\n",
       "      <td id=\"T_cbc0a_row13_col4\" class=\"data row13 col4\" >126205</td>\n",
       "      <td id=\"T_cbc0a_row13_col5\" class=\"data row13 col5\" >Tommy Paul</td>\n",
       "    </tr>\n",
       "    <tr>\n",
       "      <td id=\"T_cbc0a_row14_col0\" class=\"data row14 col0\" >200005</td>\n",
       "      <td id=\"T_cbc0a_row14_col1\" class=\"data row14 col1\" >Ugo Humbert</td>\n",
       "      <td id=\"T_cbc0a_row14_col2\" class=\"data row14 col2\" >209950</td>\n",
       "      <td id=\"T_cbc0a_row14_col3\" class=\"data row14 col3\" >Arthur Fils</td>\n",
       "      <td id=\"T_cbc0a_row14_col4\" class=\"data row14 col4\" >200005</td>\n",
       "      <td id=\"T_cbc0a_row14_col5\" class=\"data row14 col5\" >Ugo Humbert</td>\n",
       "    </tr>\n",
       "    <tr>\n",
       "      <td id=\"T_cbc0a_row15_col0\" class=\"data row15 col0\" >106401</td>\n",
       "      <td id=\"T_cbc0a_row15_col1\" class=\"data row15 col1\" >Nick Kyrgios</td>\n",
       "      <td id=\"T_cbc0a_row15_col2\" class=\"data row15 col2\" >100644</td>\n",
       "      <td id=\"T_cbc0a_row15_col3\" class=\"data row15 col3\" >Alexander Zverev</td>\n",
       "      <td id=\"T_cbc0a_row15_col4\" class=\"data row15 col4\" >100644</td>\n",
       "      <td id=\"T_cbc0a_row15_col5\" class=\"data row15 col5\" >Alexander Zverev</td>\n",
       "    </tr>\n",
       "  </tbody>\n",
       "</table>\n"
      ],
      "text/plain": [
       "<pandas.io.formats.style.Styler at 0x242dfafa850>"
      ]
     },
     "metadata": {},
     "output_type": "display_data"
    },
    {
     "data": {
      "text/html": [
       "<style type=\"text/css\">\n",
       "</style>\n",
       "<table id=\"T_26d55\">\n",
       "  <caption>4th Round</caption>\n",
       "  <thead>\n",
       "    <tr>\n",
       "      <th id=\"T_26d55_level0_col0\" class=\"col_heading level0 col0\" >player1_id</th>\n",
       "      <th id=\"T_26d55_level0_col1\" class=\"col_heading level0 col1\" >player1_name</th>\n",
       "      <th id=\"T_26d55_level0_col2\" class=\"col_heading level0 col2\" >player2_id</th>\n",
       "      <th id=\"T_26d55_level0_col3\" class=\"col_heading level0 col3\" >player2_name</th>\n",
       "      <th id=\"T_26d55_level0_col4\" class=\"col_heading level0 col4\" >winner_id</th>\n",
       "      <th id=\"T_26d55_level0_col5\" class=\"col_heading level0 col5\" >winner_name</th>\n",
       "    </tr>\n",
       "  </thead>\n",
       "  <tbody>\n",
       "    <tr>\n",
       "      <td id=\"T_26d55_row0_col0\" class=\"data row0 col0\" >206173</td>\n",
       "      <td id=\"T_26d55_row0_col1\" class=\"data row0 col1\" >Jannik Sinner</td>\n",
       "      <td id=\"T_26d55_row0_col2\" class=\"data row0 col2\" >208029</td>\n",
       "      <td id=\"T_26d55_row0_col3\" class=\"data row0 col3\" >Holger Rune</td>\n",
       "      <td id=\"T_26d55_row0_col4\" class=\"data row0 col4\" >206173</td>\n",
       "      <td id=\"T_26d55_row0_col5\" class=\"data row0 col5\" >Jannik Sinner</td>\n",
       "    </tr>\n",
       "    <tr>\n",
       "      <td id=\"T_26d55_row1_col0\" class=\"data row1 col0\" >111575</td>\n",
       "      <td id=\"T_26d55_row1_col1\" class=\"data row1 col1\" >Karen Khachanov</td>\n",
       "      <td id=\"T_26d55_row1_col2\" class=\"data row1 col2\" >200282</td>\n",
       "      <td id=\"T_26d55_row1_col3\" class=\"data row1 col3\" >Alex De Minaur</td>\n",
       "      <td id=\"T_26d55_row1_col4\" class=\"data row1 col4\" >200282</td>\n",
       "      <td id=\"T_26d55_row1_col5\" class=\"data row1 col5\" >Alex De Minaur</td>\n",
       "    </tr>\n",
       "    <tr>\n",
       "      <td id=\"T_26d55_row2_col0\" class=\"data row2 col0\" >126203</td>\n",
       "      <td id=\"T_26d55_row2_col1\" class=\"data row2 col1\" >Taylor Fritz</td>\n",
       "      <td id=\"T_26d55_row2_col2\" class=\"data row2 col2\" >210097</td>\n",
       "      <td id=\"T_26d55_row2_col3\" class=\"data row2 col3\" >Ben Shelton</td>\n",
       "      <td id=\"T_26d55_row2_col4\" class=\"data row2 col4\" >126203</td>\n",
       "      <td id=\"T_26d55_row2_col5\" class=\"data row2 col5\" >Taylor Fritz</td>\n",
       "    </tr>\n",
       "    <tr>\n",
       "      <td id=\"T_26d55_row3_col0\" class=\"data row3 col0\" >126207</td>\n",
       "      <td id=\"T_26d55_row3_col1\" class=\"data row3 col1\" >Frances Tiafoe</td>\n",
       "      <td id=\"T_26d55_row3_col2\" class=\"data row3 col2\" >106421</td>\n",
       "      <td id=\"T_26d55_row3_col3\" class=\"data row3 col3\" >Daniil Medvedev</td>\n",
       "      <td id=\"T_26d55_row3_col4\" class=\"data row3 col4\" >106421</td>\n",
       "      <td id=\"T_26d55_row3_col5\" class=\"data row3 col5\" >Daniil Medvedev</td>\n",
       "    </tr>\n",
       "    <tr>\n",
       "      <td id=\"T_26d55_row4_col0\" class=\"data row4 col0\" >104925</td>\n",
       "      <td id=\"T_26d55_row4_col1\" class=\"data row4 col1\" >Novak Djokovic</td>\n",
       "      <td id=\"T_26d55_row4_col2\" class=\"data row4 col2\" >105777</td>\n",
       "      <td id=\"T_26d55_row4_col3\" class=\"data row4 col3\" >Grigor Dimitrov</td>\n",
       "      <td id=\"T_26d55_row4_col4\" class=\"data row4 col4\" >104925</td>\n",
       "      <td id=\"T_26d55_row4_col5\" class=\"data row4 col5\" >Novak Djokovic</td>\n",
       "    </tr>\n",
       "    <tr>\n",
       "      <td id=\"T_26d55_row5_col0\" class=\"data row5 col0\" >207733</td>\n",
       "      <td id=\"T_26d55_row5_col1\" class=\"data row5 col1\" >Jack Draper</td>\n",
       "      <td id=\"T_26d55_row5_col2\" class=\"data row5 col2\" >207989</td>\n",
       "      <td id=\"T_26d55_row5_col3\" class=\"data row5 col3\" >Carlos Alcaraz</td>\n",
       "      <td id=\"T_26d55_row5_col4\" class=\"data row5 col4\" >207989</td>\n",
       "      <td id=\"T_26d55_row5_col5\" class=\"data row5 col5\" >Carlos Alcaraz</td>\n",
       "    </tr>\n",
       "    <tr>\n",
       "      <td id=\"T_26d55_row6_col0\" class=\"data row6 col0\" >200000</td>\n",
       "      <td id=\"T_26d55_row6_col1\" class=\"data row6 col1\" >Felix Auger Aliassime</td>\n",
       "      <td id=\"T_26d55_row6_col2\" class=\"data row6 col2\" >126205</td>\n",
       "      <td id=\"T_26d55_row6_col3\" class=\"data row6 col3\" >Tommy Paul</td>\n",
       "      <td id=\"T_26d55_row6_col4\" class=\"data row6 col4\" >126205</td>\n",
       "      <td id=\"T_26d55_row6_col5\" class=\"data row6 col5\" >Tommy Paul</td>\n",
       "    </tr>\n",
       "    <tr>\n",
       "      <td id=\"T_26d55_row7_col0\" class=\"data row7 col0\" >200005</td>\n",
       "      <td id=\"T_26d55_row7_col1\" class=\"data row7 col1\" >Ugo Humbert</td>\n",
       "      <td id=\"T_26d55_row7_col2\" class=\"data row7 col2\" >100644</td>\n",
       "      <td id=\"T_26d55_row7_col3\" class=\"data row7 col3\" >Alexander Zverev</td>\n",
       "      <td id=\"T_26d55_row7_col4\" class=\"data row7 col4\" >100644</td>\n",
       "      <td id=\"T_26d55_row7_col5\" class=\"data row7 col5\" >Alexander Zverev</td>\n",
       "    </tr>\n",
       "  </tbody>\n",
       "</table>\n"
      ],
      "text/plain": [
       "<pandas.io.formats.style.Styler at 0x242dce70f90>"
      ]
     },
     "metadata": {},
     "output_type": "display_data"
    },
    {
     "data": {
      "text/html": [
       "<style type=\"text/css\">\n",
       "</style>\n",
       "<table id=\"T_89e7f\">\n",
       "  <caption>QF</caption>\n",
       "  <thead>\n",
       "    <tr>\n",
       "      <th id=\"T_89e7f_level0_col0\" class=\"col_heading level0 col0\" >player1_id</th>\n",
       "      <th id=\"T_89e7f_level0_col1\" class=\"col_heading level0 col1\" >player1_name</th>\n",
       "      <th id=\"T_89e7f_level0_col2\" class=\"col_heading level0 col2\" >player2_id</th>\n",
       "      <th id=\"T_89e7f_level0_col3\" class=\"col_heading level0 col3\" >player2_name</th>\n",
       "      <th id=\"T_89e7f_level0_col4\" class=\"col_heading level0 col4\" >winner_id</th>\n",
       "      <th id=\"T_89e7f_level0_col5\" class=\"col_heading level0 col5\" >winner_name</th>\n",
       "    </tr>\n",
       "  </thead>\n",
       "  <tbody>\n",
       "    <tr>\n",
       "      <td id=\"T_89e7f_row0_col0\" class=\"data row0 col0\" >206173</td>\n",
       "      <td id=\"T_89e7f_row0_col1\" class=\"data row0 col1\" >Jannik Sinner</td>\n",
       "      <td id=\"T_89e7f_row0_col2\" class=\"data row0 col2\" >200282</td>\n",
       "      <td id=\"T_89e7f_row0_col3\" class=\"data row0 col3\" >Alex De Minaur</td>\n",
       "      <td id=\"T_89e7f_row0_col4\" class=\"data row0 col4\" >206173</td>\n",
       "      <td id=\"T_89e7f_row0_col5\" class=\"data row0 col5\" >Jannik Sinner</td>\n",
       "    </tr>\n",
       "    <tr>\n",
       "      <td id=\"T_89e7f_row1_col0\" class=\"data row1 col0\" >126203</td>\n",
       "      <td id=\"T_89e7f_row1_col1\" class=\"data row1 col1\" >Taylor Fritz</td>\n",
       "      <td id=\"T_89e7f_row1_col2\" class=\"data row1 col2\" >106421</td>\n",
       "      <td id=\"T_89e7f_row1_col3\" class=\"data row1 col3\" >Daniil Medvedev</td>\n",
       "      <td id=\"T_89e7f_row1_col4\" class=\"data row1 col4\" >126203</td>\n",
       "      <td id=\"T_89e7f_row1_col5\" class=\"data row1 col5\" >Taylor Fritz</td>\n",
       "    </tr>\n",
       "    <tr>\n",
       "      <td id=\"T_89e7f_row2_col0\" class=\"data row2 col0\" >104925</td>\n",
       "      <td id=\"T_89e7f_row2_col1\" class=\"data row2 col1\" >Novak Djokovic</td>\n",
       "      <td id=\"T_89e7f_row2_col2\" class=\"data row2 col2\" >207989</td>\n",
       "      <td id=\"T_89e7f_row2_col3\" class=\"data row2 col3\" >Carlos Alcaraz</td>\n",
       "      <td id=\"T_89e7f_row2_col4\" class=\"data row2 col4\" >104925</td>\n",
       "      <td id=\"T_89e7f_row2_col5\" class=\"data row2 col5\" >Novak Djokovic</td>\n",
       "    </tr>\n",
       "    <tr>\n",
       "      <td id=\"T_89e7f_row3_col0\" class=\"data row3 col0\" >126205</td>\n",
       "      <td id=\"T_89e7f_row3_col1\" class=\"data row3 col1\" >Tommy Paul</td>\n",
       "      <td id=\"T_89e7f_row3_col2\" class=\"data row3 col2\" >100644</td>\n",
       "      <td id=\"T_89e7f_row3_col3\" class=\"data row3 col3\" >Alexander Zverev</td>\n",
       "      <td id=\"T_89e7f_row3_col4\" class=\"data row3 col4\" >100644</td>\n",
       "      <td id=\"T_89e7f_row3_col5\" class=\"data row3 col5\" >Alexander Zverev</td>\n",
       "    </tr>\n",
       "  </tbody>\n",
       "</table>\n"
      ],
      "text/plain": [
       "<pandas.io.formats.style.Styler at 0x242dce73f10>"
      ]
     },
     "metadata": {},
     "output_type": "display_data"
    },
    {
     "data": {
      "text/html": [
       "<style type=\"text/css\">\n",
       "</style>\n",
       "<table id=\"T_34823\">\n",
       "  <caption>SF</caption>\n",
       "  <thead>\n",
       "    <tr>\n",
       "      <th id=\"T_34823_level0_col0\" class=\"col_heading level0 col0\" >player1_id</th>\n",
       "      <th id=\"T_34823_level0_col1\" class=\"col_heading level0 col1\" >player1_name</th>\n",
       "      <th id=\"T_34823_level0_col2\" class=\"col_heading level0 col2\" >player2_id</th>\n",
       "      <th id=\"T_34823_level0_col3\" class=\"col_heading level0 col3\" >player2_name</th>\n",
       "      <th id=\"T_34823_level0_col4\" class=\"col_heading level0 col4\" >winner_id</th>\n",
       "      <th id=\"T_34823_level0_col5\" class=\"col_heading level0 col5\" >winner_name</th>\n",
       "    </tr>\n",
       "  </thead>\n",
       "  <tbody>\n",
       "    <tr>\n",
       "      <td id=\"T_34823_row0_col0\" class=\"data row0 col0\" >206173</td>\n",
       "      <td id=\"T_34823_row0_col1\" class=\"data row0 col1\" >Jannik Sinner</td>\n",
       "      <td id=\"T_34823_row0_col2\" class=\"data row0 col2\" >126203</td>\n",
       "      <td id=\"T_34823_row0_col3\" class=\"data row0 col3\" >Taylor Fritz</td>\n",
       "      <td id=\"T_34823_row0_col4\" class=\"data row0 col4\" >206173</td>\n",
       "      <td id=\"T_34823_row0_col5\" class=\"data row0 col5\" >Jannik Sinner</td>\n",
       "    </tr>\n",
       "    <tr>\n",
       "      <td id=\"T_34823_row1_col0\" class=\"data row1 col0\" >104925</td>\n",
       "      <td id=\"T_34823_row1_col1\" class=\"data row1 col1\" >Novak Djokovic</td>\n",
       "      <td id=\"T_34823_row1_col2\" class=\"data row1 col2\" >100644</td>\n",
       "      <td id=\"T_34823_row1_col3\" class=\"data row1 col3\" >Alexander Zverev</td>\n",
       "      <td id=\"T_34823_row1_col4\" class=\"data row1 col4\" >104925</td>\n",
       "      <td id=\"T_34823_row1_col5\" class=\"data row1 col5\" >Novak Djokovic</td>\n",
       "    </tr>\n",
       "  </tbody>\n",
       "</table>\n"
      ],
      "text/plain": [
       "<pandas.io.formats.style.Styler at 0x242dc8afc50>"
      ]
     },
     "metadata": {},
     "output_type": "display_data"
    },
    {
     "data": {
      "text/html": [
       "<style type=\"text/css\">\n",
       "</style>\n",
       "<table id=\"T_67320\">\n",
       "  <caption>Final</caption>\n",
       "  <thead>\n",
       "    <tr>\n",
       "      <th id=\"T_67320_level0_col0\" class=\"col_heading level0 col0\" >player1_id</th>\n",
       "      <th id=\"T_67320_level0_col1\" class=\"col_heading level0 col1\" >player1_name</th>\n",
       "      <th id=\"T_67320_level0_col2\" class=\"col_heading level0 col2\" >player2_id</th>\n",
       "      <th id=\"T_67320_level0_col3\" class=\"col_heading level0 col3\" >player2_name</th>\n",
       "      <th id=\"T_67320_level0_col4\" class=\"col_heading level0 col4\" >winner_id</th>\n",
       "      <th id=\"T_67320_level0_col5\" class=\"col_heading level0 col5\" >winner_name</th>\n",
       "    </tr>\n",
       "  </thead>\n",
       "  <tbody>\n",
       "    <tr>\n",
       "      <td id=\"T_67320_row0_col0\" class=\"data row0 col0\" >206173</td>\n",
       "      <td id=\"T_67320_row0_col1\" class=\"data row0 col1\" >Jannik Sinner</td>\n",
       "      <td id=\"T_67320_row0_col2\" class=\"data row0 col2\" >104925</td>\n",
       "      <td id=\"T_67320_row0_col3\" class=\"data row0 col3\" >Novak Djokovic</td>\n",
       "      <td id=\"T_67320_row0_col4\" class=\"data row0 col4\" >206173</td>\n",
       "      <td id=\"T_67320_row0_col5\" class=\"data row0 col5\" >Jannik Sinner</td>\n",
       "    </tr>\n",
       "  </tbody>\n",
       "</table>\n"
      ],
      "text/plain": [
       "<pandas.io.formats.style.Styler at 0x242dfaf9190>"
      ]
     },
     "metadata": {},
     "output_type": "display_data"
    }
   ],
   "source": [
    "## 10 Reporte de cada ronda con nombres\n",
    "players = pd.read_csv(PLAYERS_CSV, low_memory=False).set_index(\"player_id\")\n",
    "name = lambda pid: players.loc[pid, [\"name_first\", \"name_last\"]].str.cat(sep=\" \")\n",
    "\n",
    "for rnd_df in round_results:\n",
    "    out = rnd_df.copy()\n",
    "    out[\"player1_name\"] = out.player1_id.map(name)\n",
    "    out[\"player2_name\"] = out.player2_id.map(name)\n",
    "    out[\"winner_name\" ] = out.winner_id .map(name)\n",
    "\n",
    "    display(\n",
    "        out[[\"player1_id\", \"player1_name\", \"player2_id\", \"player2_name\", \"winner_id\", \"winner_name\"]]\n",
    "        .style.set_caption(out[\"round\"].iloc[0])\n",
    "        .hide(axis=\"index\")\n",
    "    )\n"
   ]
  },
  {
   "cell_type": "code",
   "execution_count": 11,
   "id": "b1675507",
   "metadata": {},
   "outputs": [
    {
     "name": "stdout",
     "output_type": "stream",
     "text": [
      "🔍 Partidos en dataset real: 127\n",
      "🔗 Partidos cubiertos por simulación: 93  (73.2%)\n",
      "🎯 Precisión (sobre los cubiertos): 68.82%\n",
      "📊 Precisión por ronda:\n"
     ]
    },
    {
     "name": "stderr",
     "output_type": "stream",
     "text": [
      "C:\\Users\\ianam\\AppData\\Local\\Temp\\ipykernel_30408\\4253896096.py:49: FutureWarning: DataFrameGroupBy.apply operated on the grouping columns. This behavior is deprecated, and in a future version of pandas the grouping columns will be excluded from the operation. Either pass `include_groups=False` to exclude the groupings or explicitly select the grouping columns after groupby to silence this warning.\n",
      "  acc_round = merged.groupby(\"round\").apply(lambda g: (g.pred_winner==g.winner_id).mean())\n"
     ]
    },
    {
     "data": {
      "text/html": [
       "<div>\n",
       "<style scoped>\n",
       "    .dataframe tbody tr th:only-of-type {\n",
       "        vertical-align: middle;\n",
       "    }\n",
       "\n",
       "    .dataframe tbody tr th {\n",
       "        vertical-align: top;\n",
       "    }\n",
       "\n",
       "    .dataframe thead th {\n",
       "        text-align: right;\n",
       "    }\n",
       "</style>\n",
       "<table border=\"1\" class=\"dataframe\">\n",
       "  <thead>\n",
       "    <tr style=\"text-align: right;\">\n",
       "      <th></th>\n",
       "      <th>accuracy</th>\n",
       "    </tr>\n",
       "    <tr>\n",
       "      <th>round</th>\n",
       "      <th></th>\n",
       "    </tr>\n",
       "  </thead>\n",
       "  <tbody>\n",
       "    <tr>\n",
       "      <th>1st Round</th>\n",
       "      <td>0.703125</td>\n",
       "    </tr>\n",
       "    <tr>\n",
       "      <th>2nd Round</th>\n",
       "      <td>0.555556</td>\n",
       "    </tr>\n",
       "    <tr>\n",
       "      <th>3rd Round</th>\n",
       "      <td>0.750000</td>\n",
       "    </tr>\n",
       "    <tr>\n",
       "      <th>4th Round</th>\n",
       "      <td>1.000000</td>\n",
       "    </tr>\n",
       "    <tr>\n",
       "      <th>QF</th>\n",
       "      <td>1.000000</td>\n",
       "    </tr>\n",
       "    <tr>\n",
       "      <th>SF</th>\n",
       "      <td>0.000000</td>\n",
       "    </tr>\n",
       "  </tbody>\n",
       "</table>\n",
       "</div>"
      ],
      "text/plain": [
       "           accuracy\n",
       "round              \n",
       "1st Round  0.703125\n",
       "2nd Round  0.555556\n",
       "3rd Round  0.750000\n",
       "4th Round  1.000000\n",
       "QF         1.000000\n",
       "SF         0.000000"
      ]
     },
     "metadata": {},
     "output_type": "display_data"
    },
    {
     "name": "stdout",
     "output_type": "stream",
     "text": [
      "🏆 Campeón real coincide con predicción: True\n"
     ]
    }
   ],
   "source": [
    "## 11 · Validación con ao_2025_results.csv\n",
    "RESULTS_CSV = DATA_DIR / \"ao_2025_results.csv\"\n",
    "assert RESULTS_CSV.exists(), f\"❌ No se encontró {RESULTS_CSV}\"\n",
    "\n",
    "real_raw = pd.read_csv(RESULTS_CSV)\n",
    "players  = pd.read_csv(PLAYERS_CSV, low_memory=False)\n",
    "\n",
    "# ---- Helper: nombre → id ----\n",
    "name2id = {}\n",
    "for r in players.itertuples(index=False):\n",
    "    if pd.notna(r.name_first) and pd.notna(r.name_last):\n",
    "        key = f\"{str(r.name_first).lower()} {str(r.name_last).lower()}\"\n",
    "        name2id[key] = r.player_id\n",
    "\n",
    "get_id = lambda s: name2id.get(str(s).lower().strip(), np.nan)\n",
    "\n",
    "# ---- Normalizar real_df ----\n",
    "if {\"player1_id\", \"player2_id\", \"winner_id\"}.issubset(real_raw.columns):\n",
    "    real_df = real_raw.copy()\n",
    "else:\n",
    "    assert {\"player1\", \"player2\", \"winner\"}.issubset(real_raw.columns), \"CSV debe tener columnas de IDs o de nombres\"\n",
    "    real_df = real_raw.copy()\n",
    "    real_df[\"player1_id\"] = real_df.player1.map(get_id)\n",
    "    real_df[\"player2_id\"] = real_df.player2.map(get_id)\n",
    "    real_df[\"winner_id\"]  = real_df.winner .map(get_id)\n",
    "    real_df = real_df.dropna(subset=[\"player1_id\",\"player2_id\",\"winner_id\"])\n",
    "\n",
    "# ---- Predicciones simuladas ----\n",
    "sim_df = pd.concat(round_results, ignore_index=True).rename(columns={\"winner_id\":\"pred_winner\"})\n",
    "\n",
    "# ---- Unordered pair key ----\n",
    "for df in (real_df, sim_df):\n",
    "    df[\"pair_key\"] = df.apply(lambda r: tuple(sorted([int(r.player1_id), int(r.player2_id)])), axis=1)\n",
    "\n",
    "merge_keys = [\"pair_key\"]\n",
    "if \"round\" in real_df.columns:\n",
    "    merge_keys.append(\"round\")\n",
    "\n",
    "merged = real_df.merge(sim_df, on=merge_keys, how=\"inner\")\n",
    "\n",
    "coverage  = len(merged) / len(real_df)\n",
    "accuracy  = (merged.pred_winner == merged.winner_id).mean()\n",
    "print(f\"🔍 Partidos en dataset real: {len(real_df)}\")\n",
    "print(f\"🔗 Partidos cubiertos por simulación: {len(merged)}  ({coverage:.1%})\")\n",
    "\n",
    "print(f\"🎯 Precisión (sobre los cubiertos): {accuracy:.2%}\")\n",
    "\n",
    "if \"round\" in merged.columns:\n",
    "    acc_round = merged.groupby(\"round\").apply(lambda g: (g.pred_winner==g.winner_id).mean())\n",
    "    print(\"📊 Precisión por ronda:\")\n",
    "    display(acc_round.to_frame(\"accuracy\"))\n",
    "\n",
    "# --- Campeón ---\n",
    "champion_real = (\n",
    "    real_df.loc[real_df.get(\"round\", pd.Series()).eq(\"Final\"), \"winner_id\"].iloc[0]\n",
    "    if \"round\" in real_df.columns and (real_df[\"round\"] == \"Final\").any()\n",
    "    else real_df.winner_id.iloc[-1]\n",
    ")\n",
    "print(f\"🏆 Campeón real coincide con predicción: {champion_real == champion_id}\")\n"
   ]
  }
 ],
 "metadata": {
  "kernelspec": {
   "display_name": "Python 3",
   "language": "python",
   "name": "python3"
  },
  "language_info": {
   "codemirror_mode": {
    "name": "ipython",
    "version": 3
   },
   "file_extension": ".py",
   "mimetype": "text/x-python",
   "name": "python",
   "nbconvert_exporter": "python",
   "pygments_lexer": "ipython3",
   "version": "3.11.9"
  }
 },
 "nbformat": 4,
 "nbformat_minor": 5
}
